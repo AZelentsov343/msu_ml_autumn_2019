{
 "cells": [
  {
   "cell_type": "code",
   "execution_count": 2,
   "metadata": {},
   "outputs": [],
   "source": [
    "import pandas as pd\n",
    "import numpy as np\n",
    "import re\n",
    "import pymorphy2 as pm\n",
    "from sklearn.neighbors import LocalOutlierFactor\n",
    "from sklearn.feature_extraction.text import CountVectorizer, TfidfTransformer, HashingVectorizer\n",
    "from multiprocessing import Pool, Lock, Value\n",
    "from sklearn.ensemble import IsolationForest\n",
    "from sklearn.metrics import f1_score\n",
    "from sklearn import svm"
   ]
  },
  {
   "cell_type": "code",
   "execution_count": 3,
   "metadata": {},
   "outputs": [],
   "source": [
    "docs_titles = pd.read_csv('anomaly-detection-competition-ml1-ts-fall-2019/docs_titles.tsv', sep='\\t', encoding='utf-8', lineterminator='\\n')"
   ]
  },
  {
   "cell_type": "code",
   "execution_count": 4,
   "metadata": {},
   "outputs": [
    {
     "data": {
      "text/plain": [
       "(27950, 2)"
      ]
     },
     "execution_count": 4,
     "metadata": {},
     "output_type": "execute_result"
    }
   ],
   "source": [
    "docs_titles.shape"
   ]
  },
  {
   "cell_type": "code",
   "execution_count": 6,
   "metadata": {},
   "outputs": [],
   "source": [
    "from bs4 import BeautifulSoup\n",
    "import os\n",
    "import codecs\n",
    "from lxml import etree, html as lhtml"
   ]
  },
  {
   "cell_type": "code",
   "execution_count": 8,
   "metadata": {},
   "outputs": [
    {
     "name": "stdout",
     "output_type": "stream",
     "text": [
      "28020 objects are processed...CPU times: user 2.43 s, sys: 1.63 s, total: 4.05 s\n",
      "Wall time: 7min 45s\n"
     ]
    }
   ],
   "source": [
    "%%time\n",
    "\n",
    "texts_titles = {}\n",
    "\n",
    "mutex = Lock()\n",
    "n_processed = Value('i', 0)\n",
    "def text_wrapper(filename):\n",
    "    text = get_page_text(filename)\n",
    "    with mutex:\n",
    "        global n_processed\n",
    "        n_processed.value += 1\n",
    "        if n_processed.value % 10 == 0:\n",
    "            print(f\"\\r{n_processed.value} objects are processed...\", end='', flush=True)\n",
    "    return text\n",
    "\n",
    "\n",
    "def get_page_text(filename):\n",
    "    with codecs.open(path + str(filename) + '.dat', 'r', 'utf-8') as f:\n",
    "        url = f.readline().strip()\n",
    "        soup = BeautifulSoup(f, 'lxml')\n",
    "        text = ''.join(map(lambda x: ' ' + x.text, soup.find_all(re.compile('^h[1-6]$'))))\n",
    "        text = re.sub('[^0-9A-Za-zА-Яа-я]+', ' ', text)\n",
    "        return text\n",
    "\n",
    "path = 'anomaly-detection-competition-ml1-ts-fall-2019/content/content/'\n",
    "filenames = os.listdir(path)\n",
    "filenames = list(range(1, 28027))\n",
    "texts = []\n",
    "\n",
    "with Pool(10) as pool:\n",
    "    texts = texts + pool.map(text_wrapper, filenames)"
   ]
  },
  {
   "cell_type": "code",
   "execution_count": 9,
   "metadata": {},
   "outputs": [
    {
     "data": {
      "text/plain": [
       "' ВАЗ 21213 16 13 Замена подшипников ступицы'"
      ]
     },
     "execution_count": 9,
     "metadata": {},
     "output_type": "execute_result"
    }
   ],
   "source": [
    "texts[15730]"
   ]
  },
  {
   "cell_type": "code",
   "execution_count": null,
   "metadata": {},
   "outputs": [],
   "source": [
    "texts[5345]"
   ]
  },
  {
   "cell_type": "code",
   "execution_count": 11,
   "metadata": {},
   "outputs": [
    {
     "name": "stderr",
     "output_type": "stream",
     "text": [
      "[nltk_data] Downloading package stopwords to\n",
      "[nltk_data]     /Users/azelentsov/nltk_data...\n",
      "[nltk_data]   Package stopwords is already up-to-date!\n"
     ]
    },
    {
     "data": {
      "text/plain": [
       "True"
      ]
     },
     "execution_count": 11,
     "metadata": {},
     "output_type": "execute_result"
    }
   ],
   "source": [
    "import nltk\n",
    "nltk.download(\"stopwords\")"
   ]
  },
  {
   "cell_type": "code",
   "execution_count": 18,
   "metadata": {},
   "outputs": [],
   "source": [
    "from nltk.corpus import stopwords\n",
    "from pymystem3 import Mystem\n",
    "from string import punctuation\n",
    "\n",
    "mystem = Mystem() \n",
    "russian_stopwords = stopwords.words(\"russian\")\n",
    "\n",
    "n_processed = Value('i', 0)\n",
    "\n",
    "def wrapper(filename):\n",
    "    text = preprocess_text(filename)\n",
    "    with mutex:\n",
    "        global n_processed\n",
    "        n_processed.value += 1\n",
    "        if n_processed.value % 100 == 0:\n",
    "            print(f\"\\r{n_processed.value} objects are processed...\", end='', flush=True)\n",
    "    return text\n",
    "\n",
    "def preprocess_text(text):\n",
    "    tokens = mystem.lemmatize(text)\n",
    "    tokens = [token for token in tokens if token not in russian_stopwords\\\n",
    "              and token != \" \" \\\n",
    "              and token.strip() not in punctuation]\n",
    "    \n",
    "    text = \" \".join(tokens)\n",
    "    \n",
    "    return text"
   ]
  },
  {
   "cell_type": "code",
   "execution_count": 19,
   "metadata": {},
   "outputs": [],
   "source": [
    "docs_titles['title'] = docs_titles['title'].astype(str)\n",
    "docs_titles['title'] = [text.lower() for text in docs_titles['title']]\n",
    "with Pool(10) as pool:\n",
    "    docs_titles['title'] = list(pool.map(preprocess_text, docs_titles['title']))"
   ]
  },
  {
   "cell_type": "code",
   "execution_count": 20,
   "metadata": {},
   "outputs": [
    {
     "name": "stdout",
     "output_type": "stream",
     "text": [
      "28000 objects are processed..."
     ]
    }
   ],
   "source": [
    "with Pool(10) as pool:\n",
    "    texts = list(pool.map(wrapper, texts))"
   ]
  },
  {
   "cell_type": "code",
   "execution_count": 21,
   "metadata": {},
   "outputs": [],
   "source": [
    "docs_to_texts = {'doc_id': range(1, 28027), 'target': texts}\n",
    "res = pd.DataFrame(docs_to_texts)\n",
    "res.to_csv('docs_texts.csv', index=False)"
   ]
  },
  {
   "cell_type": "code",
   "execution_count": 22,
   "metadata": {},
   "outputs": [
    {
     "data": {
      "text/plain": [
       "0                  ваз 21213 замена подшипник ступица нива\n",
       "1        ваз 2107 опт сочи сравнивать цена купить потре...\n",
       "2        купить ступица лад калина2 трансмиссия переход...\n",
       "3                                     классика 21010 21074\n",
       "4          ступица нива    —    замена подшипник свой рука\n",
       "                               ...                        \n",
       "27945    ответ mail ru полезный кушать творог утро худе...\n",
       "27946    творог полезный свойство лечение творог женски...\n",
       "27947              творог полезный опасный свойство творог\n",
       "27948                        ответ mail ru полезный творог\n",
       "27949    творог польза вред    ::    выбирать продукт  ...\n",
       "Name: title, Length: 27950, dtype: object"
      ]
     },
     "execution_count": 22,
     "metadata": {},
     "output_type": "execute_result"
    }
   ],
   "source": [
    "docs_titles['title']"
   ]
  },
  {
   "cell_type": "code",
   "execution_count": 170,
   "metadata": {},
   "outputs": [],
   "source": [
    "test_groups = pd.read_csv('anomaly-detection-competition-ml1-ts-fall-2019/test_groups.csv')"
   ]
  },
  {
   "cell_type": "code",
   "execution_count": 171,
   "metadata": {},
   "outputs": [],
   "source": [
    "train_groups = pd.read_csv('anomaly-detection-competition-ml1-ts-fall-2019/train_groups.csv')"
   ]
  },
  {
   "cell_type": "code",
   "execution_count": 172,
   "metadata": {},
   "outputs": [
    {
     "data": {
      "text/plain": [
       "(11690, 4)"
      ]
     },
     "execution_count": 172,
     "metadata": {},
     "output_type": "execute_result"
    }
   ],
   "source": [
    "train_groups.shape"
   ]
  },
  {
   "cell_type": "code",
   "execution_count": 173,
   "metadata": {},
   "outputs": [
    {
     "data": {
      "text/plain": [
       "(16627, 3)"
      ]
     },
     "execution_count": 173,
     "metadata": {},
     "output_type": "execute_result"
    }
   ],
   "source": [
    "test_groups.shape"
   ]
  },
  {
   "cell_type": "code",
   "execution_count": 174,
   "metadata": {},
   "outputs": [
    {
     "name": "stdout",
     "output_type": "stream",
     "text": [
      "CPU times: user 15.9 s, sys: 25.2 ms, total: 15.9 s\n",
      "Wall time: 15.9 s\n"
     ]
    },
    {
     "data": {
      "text/plain": [
       "['ваз 21213 замена подшипник ступица нива',\n",
       " 'ваз 2107 опт сочи сравнивать цена купить потребительский товар tiu ru',\n",
       " 'купить ступица лад калина2 трансмиссия переходный ступица цена замена тюнинг',\n",
       " 'классика 21010 21074',\n",
       " 'ступица нива     —     замена подшипник свой рука',\n",
       " 'ваз 2110',\n",
       " 'обзор подшипник полуось ваз 2101 07 2121 2123',\n",
       " 'купить подшипник ступица fag страница 23',\n",
       " 'horsepowers     —     автомобильный интернет портал     »     отзыв владелец ваз 2121 нива 2007 год',\n",
       " 'новость сообщение официальный группа вконтакте торговый компания 33 sport магазин тольятти',\n",
       " 'инструкция замена подшипник передний ступица ивеко дейли dorognoekam ru',\n",
       " 'ступица olx ua страница 80',\n",
       " 'маааленькая проблемка     —     бортжурнал авток 2160 ╬ 1994 год drive2',\n",
       " 'разгружать полуось нива 24 шлиц 765 мм',\n",
       " 'прошивка нива м 7.9 7 скачать файлообменник emqraty6 foxkirov ru',\n",
       " 'страница 6 раздел каталог подвеска',\n",
       " 'продавать нива 2121',\n",
       " 'рекомендация проведение независимый экспертиза осаго',\n",
       " 'втулка подшипник омск сравнивать цена поставщик промышленный товар tiu ru',\n",
       " 'шевроле блейзер елабуга руководство эксплуатация инструкция совет',\n",
       " 'привод шрус пыльник шрусый страница 3',\n",
       " 'автомобиль маз калининград интернет магазин компания стоимость каталог купить автомобиль маз цена сайт propartner',\n",
       " 'ваз 2103 украина сравнивать цена купить потребительский товар prom ua стр 86',\n",
       " 'купить подшипник цена 1 000 руб киров магазин город страница 5',\n",
       " 'купить запчасть ваз воронеж     —     доска объявление камелот',\n",
       " 'опора передний амортизатор выбирать подвеска',\n",
       " 'подшипник лада ваз красноярск',\n",
       " 'автозапчасть тендер торги закупка национальный тендерный портал tenderguru ru',\n",
       " 'замена регулировка передний ступичный подшипник нива нива ремонт',\n",
       " 'разборка передний тормозной механизм ваз 21213 нива',\n",
       " 'коробка передача …     —     бортжурнал fiat albea алька 2008 год drive2',\n",
       " 'продажа ваз нива 2121 2011 год курган продавать lada 4x4 нива отличный технический состояние обмен дорогой равноценный дешевый 4wd',\n",
       " 'ваз 2108',\n",
       " 'интернет магазин ооо автокомпас',\n",
       " 'заменять подшипник ступица передний колесо ваз 2121',\n",
       " 'развал ступица яплакать',\n",
       " 'нужный помощь подвеска',\n",
       " 'запчасть ваз газ заз москвич авто мото литература газ волга',\n",
       " 'снятие установка подшипник ступица нива 2121 нива 2131',\n",
       " 'ваз 2104',\n",
       " 'подшипник olimac drago dr7080 6307 2rs цена 1 грн доставка полтавский обл zakupka com',\n",
       " 'снимать ступица ваз 2121 нива youtube',\n",
       " 'замена подшипник ступица ваз 21213 21214 нива',\n",
       " 'uaz patriot брать брать faq форум клуб patriot 4x4',\n",
       " 'каталог запчасть интернет тв',\n",
       " 'опрос помогать выбирать заз chance vortex estina б kia spectra     —     страница 10     —     форум wroom ru',\n",
       " 'вал привод ваз 2121 нива харьков сравнивать цена купить потребительский товар prom ua',\n",
       " 'лада нива 2121 1997 новокузнецк двигатель кап ремонт 6000км 4wd коробка механический бензин',\n",
       " 'jf stoll джи эф штоль',\n",
       " 'сборка поворотный кулак ступица нива 2121 2123 автомобиль автомобильный хозяйство автосервис    ) |     чертеж масштаб ру',\n",
       " 'техношин подшипник новокузнецк',\n",
       " 'автозапчасть ваз     - \"    олми сервис',\n",
       " 'ступица купить винницкий область интернет магазин низкий цена большой каталог быстрый доставка ступица фото отзыв',\n",
       " 'купить лада 4x4 2121 нива 2010 новый уренгой полный шумоизоляция электро котел подножка усиливать прицепной устройство бензин бордовый пробег 76000 км',\n",
       " 'av autotechnik',\n",
       " 'снятие задний ступичный подшипник',\n",
       " 'весь изображение ступица ваз 2106 сбор    \" /     picsbase ru',\n",
       " 'блог автомобильный клуб кулибинск клуб',\n",
       " 'купить подшипник ступица газель next передний цена 3 061.35 р арт а21r 23.3103145 интернет магазин новосибирск',\n",
       " 'смазывать ступичный подшипник нива шевроле видео avtoservis sobol',\n",
       " 'средство уход автомобиль купить скидка кострома',\n",
       " 'купить подшипник 180314 6314 2rs ct полтава цена 201.34 грн zakupka com',\n",
       " 'двигатель',\n",
       " 'поменять подшипник ступица нива шевроле видео',\n",
       " 'подшипник маховик газ 3110 3302 дв 406 дв cummins мета крышка    ) (    6203 кпк     —     газ деталь машина пятигорск каталог автозапчасть газ ваз уаз lada деталь',\n",
       " 'нива подшипник ступица 21213103020 купить нижний новгород',\n",
       " 'подшипник автомобиль спецтехника vbf купить украина интернет магазин низкий цена большой каталог быстрый доставка подшипник автомобиль спецтехника vbf фото отзыв',\n",
       " '...    :::     ниваклуб новосибирск     :::    ...     •     просмотр тема подготовка машина зима',\n",
       " 'нива 2121 тольятти сравнивать цена купить потребительский товар tiu ru стр 13',\n",
       " 'задний ступица n16 2000г    ) (    nissan almera ii n16    )) &    mdash nissan almera клуб нисан альмера',\n",
       " 'чертеж',\n",
       " 'ремонт ваз 2131 свой рука ремонт ваз свой рука remontysvoimirukami ru',\n",
       " 'глухой периодичный стук справа',\n",
       " 'ваз 2121 страница 5 форум клуб ваз 2104',\n",
       " 'ступица нижний тагил сравнивать цена купить потребительский товар tiu ru стр 4',\n",
       " 'замена воздушный фильтр ваз 2108 2109 21099 видео     »     ремонт авто свой рука видео руководство ремонт',\n",
       " 'колпачок ступица ваз 2110 2170 компания z24 купить санкт-петербург',\n",
       " 'подшипник ступица ваз 2101 kraft компания z24 купить санкт-петербург',\n",
       " 'подшипник mannol',\n",
       " 'заменять передний ступичный подшипник нива шевроле нива',\n",
       " 'купить мкпп ваз лада сочи сравнивать цена мкпп ваз лада сочи портал blizko',\n",
       " 'renault symbol ваш мнение     —     форум wroom ru',\n",
       " 'простой разборка ступица нива ремонт',\n",
       " 'потребительский товар ваз 2106 беларусь сравнивать цена купить потребительский товар deal by',\n",
       " 'замена подшипник передний ступица нива 21213',\n",
       " 'www pajero4x4 ru     •     просмотр тема безрезультатный сход развал',\n",
       " 'колхоз давать делиться колхозил p10    ))) |     nissan primera p10 вконтакте',\n",
       " 'страница 103 автокомпектующий запчасть прочее',\n",
       " 'подшипник полуось украина сравнивать цена купить потребительский товар prom ua стр 3',\n",
       " 'купить lada ваз 2121 4x4 пробег омск 2001 год цена 130 000 рубль     —     авто ру',\n",
       " 'промышленный оптовый товар крестовина омск сравнивать цена поставщик промышленный товар tiu ru',\n",
       " 'ваз 2111',\n",
       " 'техношин автозапчасть отечественный автомобиль',\n",
       " 'колесо зубчатый раздаточный коробка ваз 2121 чертеж № 74 список деталь стоимость запчасть',\n",
       " 'подшипник 6306 youtube',\n",
       " 'innovate 3740 сетевой адаптер прикуриватель lm 1     ―     интернет магазин shop tuning ru',\n",
       " 'объявление дзержинск рф главный портал город дзержинск нижегородский область',\n",
       " 'замена ремень цепь грм автомобиль смотреть видео zamenagrm ru',\n",
       " 'ваз 2121 замена подшипник ступица',\n",
       " 'малолитражка характер вездеход моделист конструктор',\n",
       " 'ваз 2112 ремонт свой рука передний мост ремонт ваз свой рука remontysvoimirukami ru',\n",
       " 'пежо 308 замена датчик давление масло']"
      ]
     },
     "execution_count": 174,
     "metadata": {},
     "output_type": "execute_result"
    }
   ],
   "source": [
    "%%time\n",
    "groups_train = []\n",
    "target_groups = []\n",
    "for group_id in range(1, 130):\n",
    "    part = train_groups[train_groups.group_id == group_id]\n",
    "    arr = []\n",
    "    arr_t = []\n",
    "    for doc_id in part['doc_id']:\n",
    "        arr.append(docs_titles[docs_titles.doc_id == doc_id].iloc[0]['title'])\n",
    "        arr_t.append(part[part.doc_id == doc_id].iloc[0]['target'])\n",
    "    groups_train.append(arr)\n",
    "    target_groups.append(arr_t)\n",
    "groups_train[0]"
   ]
  },
  {
   "cell_type": "code",
   "execution_count": 175,
   "metadata": {},
   "outputs": [
    {
     "name": "stdout",
     "output_type": "stream",
     "text": [
      "CPU times: user 22 s, sys: 34.7 ms, total: 22 s\n",
      "Wall time: 22 s\n"
     ]
    },
    {
     "data": {
      "text/plain": [
       "['прописывать админк кс 1.6 друг youtube',\n",
       " 'скачать sgl rp доработка слива мода mysql    ]  |     rp role play готовый сервер samp 0.3 7 0.3 z 0.3 x 0.3 e v sampe ru samp gta',\n",
       " 'прописывать админк кс 1.6 counter strike каталог статья игровой сообщество dream x ru counter strike портал',\n",
       " 'прописывать простой админк кс 1 6',\n",
       " 'подбор админ сервер код 4 архив    ]  -     форум ozone',\n",
       " 'каталог статья the best original portal in ukraine the best original portal in ukrain',\n",
       " 'eugene kirian     »     блог',\n",
       " 'файл htaccess основной параметр увеличивать безопасность блог',\n",
       " 'давать админк cs 1.6 хостинг my arena ответ игра вокруг свет игра',\n",
       " 'joomla 2.5 убирать хлебный крошка выбирать страница',\n",
       " 'sa mp беседка архив    ]  -     страница 3 форум ozone',\n",
       " 'чужой wifi     ->     форум исходник ру',\n",
       " 'спасибо комментарий плагин',\n",
       " 'cs amxmodmenu прописывать админк',\n",
       " 'пароль admin hack 3 7 c s 1 6',\n",
       " 'пользоваться сервер кс видео',\n",
       " 'сделать свой сервер кс 1.6 админка паутинка граб    ) -     драка видео',\n",
       " 'ответ mail ru создавать свой сервак кс 1.6 прописывать ся админ комп перезагружать .. ip адрес поменяться ... сделат',\n",
       " 'проблема настройка админки hlds сервер cs 1.6 hlds сервер cs 1.6 форум cs hlds ru',\n",
       " 'квантиум страница 4 guild black templars',\n",
       " 'установка kerio control 8.2 3 отдельный машина форум kerio rus',\n",
       " 'прописывать кредит рпг серв ксс',\n",
       " 'вакансия координатор проект главный программист',\n",
       " 'bmw m5 gta san andreas качественный детализация gta san andreas bmw m5 f10 gold скачать bmw x5m gold gta san andreas скачать паинт bmw gta san andreas скачать гта 5 пираток пк r g mechanics гта 5 скачать пк пираток альфа rutor скачать гта 5 пираток пк скачать гта 5 пк пираткий 100 прохождение gta san andreas sunny mod gta san andreas sunny mod управление gta san andreas best mod прохождение посмотреть видео gta san andreas sunny mod 2010 скачать чита гта возвращение лос сантос чита гта возвращение лос сантос бесконечный патрон скачать сэйв гта са возвращение лос сантос',\n",
       " 'хотеть новый пб королевство кривой зеркало архив    ]  -     страница 2 civ club',\n",
       " 'лк html5 личный кабинет асра mikbill',\n",
       " 'сервер отвечать помощь amxbans csbans ru',\n",
       " 'компьютер интернет запись рубрика компьютер интернет дневник svetlana i 0902 liveinternet российский сервис онлайн дневник',\n",
       " 'прописывать килла cs go     ::     cs go рулетка 5 рубль',\n",
       " 'создавать свой сервер css v34 !!?? простой youtube',\n",
       " 'хороший скрипт сервер гта самп',\n",
       " 'функция создание контекстный меню     ::     разный     ::     javascript     ::     форум dklab denwer',\n",
       " 'maikil ru блог maikil бесплатный скрипт заработок интернет страница 5',\n",
       " 'мир психология психологический чат',\n",
       " 'wordpress установка плагин устанавливать плагин вордпресс вручную',\n",
       " 'thl t100s неофициальный прошивка 4pda',\n",
       " 'сообщество steam     ::     руководство     ::     открывать порт killing floor',\n",
       " 'изготовление сайт услуга gusev online ru форум',\n",
       " 'оффтоп технический поддержка uzonline архив    ]  -     страница 51 uforum uz',\n",
       " 'купить роутер ева ру женский интернет цифровой мир программный обеспечение',\n",
       " 'давать админк свой сервер майнкрафт !. ответ 100к1 игра',\n",
       " 'давать админк самп прописывать админк самп',\n",
       " 'давать админки gta samp rp ru',\n",
       " 'прописывать админк хостинг csserv ru zebroid tv',\n",
       " 'готовый сервер css v34 соскин админ backupertemplates',\n",
       " 'консольный команда minecraft работать',\n",
       " 'улучшать wifi симферопольский форум',\n",
       " 'бесплатный ssl сертификат letsencrypt man sovet ru',\n",
       " '\\ufeff\\ufeff    краткий обзор нововведение laravel 5.4',\n",
       " 'давать админк 4 уровень гта самп',\n",
       " 'скачать cfg который взламывать сервер',\n",
       " 'прописывать админк прописывать админк становиться админ свой сервер статья каталог статья самый хороший cs 1.6',\n",
       " 'админ летать minecraft',\n",
       " 'вводить свой пароль админк кс 1.6 активировать ответ игра вокруг свет игра',\n",
       " 'команда админ гта самп',\n",
       " 'blog archives dialbittorrent',\n",
       " 'прописывать главный админк ксс 34 хостинг myarena устанавливать главный админк css v34 myarena видео прописывать ксс 34 гл админк прописывать админк ксс 34 социальный проблема общество',\n",
       " 'правдоруб     —     выпуск 01.07 2012 правдоруб',\n",
       " 'прописывать админк cs 1.6 свой сервер',\n",
       " 'прописывать админк кс 1.6',\n",
       " 'скачать готовый сервер паутинка граб',\n",
       " 'защищать сервер css взлом 16 март 2013 drees team play with pro',\n",
       " 'проброс порт доступ камера роутер неофициальный форум технический поддержка hikvision',\n",
       " 'боевой плагин wordpress блоггинг инвестинг трейдинг',\n",
       " 'нужный помощь modx evolution revolution вконтакте',\n",
       " 'jayme g disbjayme    ) |     твиттер',\n",
       " 'настройка dle работа бд использовать utf 8 datalife engine dle    ) -     cyberforum ru',\n",
       " 'создавать купить сервер кс 1.6 админк www fassen net видео серфинг',\n",
       " 'консоль прописывать бан игрок кс 1 6',\n",
       " 'форматирование текст блог делать статья читабельный блогопрактика',\n",
       " 'apache nginx phpmyadmin     •     станок чпу форум cnc club ru',\n",
       " '15 самый раздражать вещь wordpress исправлять бизнес блог макс метелев',\n",
       " 'летать админк rust',\n",
       " 'настраивать админк ника пароль myarena ru css v34 www fassen net видео серфинг',\n",
       " 'super commands v 0.6 забавный команда ксс hp',\n",
       " 'прописывать админк кс 1.6     —     инструкция',\n",
       " 'сайт интернет centr lan ухта сосногорск',\n",
       " 'немного безопасность cs сервер     »     скачать файл cs 1.6',\n",
       " 'f a q ошибка бд database error',\n",
       " 'давать креатив майнкрафт',\n",
       " 'оптимизация wordpress сайт seo плагин чпу',\n",
       " 'прописывать админ кикать чита rust',\n",
       " 'cs cs ваш сервер',\n",
       " 'техподдержка чат voc страница 38 форум hostlite',\n",
       " 'заработок биржа вечный ссылка rotapost ru',\n",
       " 'устанавливать скрипт ?? форум samp мультиплеер gta',\n",
       " 'ivms 5200 страница 6 неофициальный форум технический поддержка hikvision',\n",
       " 'защита wordpress помощь файл htaccess',\n",
       " 'сервис короткий ссылка php форум web мастер компьютерщик',\n",
       " 'создавать сервер кс 1.6 админк фан сайт ивангай иван рудский eeoneguy youtube магазин ивангай',\n",
       " 'администратор иркутский сервер cs 1.6 власть народ',\n",
       " 'мочь зайти админк роутер страница 2 компьютерный помощь форум фан-клуб лаборатория касперский',\n",
       " 'играть кс 1.6 jail № 1 youtube',\n",
       " 'забанить сервер майнкрафт mine dest это купить админк оставаться привилегать вопрос minecraft 4cheat',\n",
       " 'правильно забиндовывать amxmodmenu youtube',\n",
       " 'прописывать админк бот cs 1.6    ) (    25.09 2014    ) -     youtube',\n",
       " 'менять адрес сайт web gavzav name https https    ://    web gavzav name блог гавриил заславский web',\n",
       " 'сентябрь 2013 руководство drupalbook ru']"
      ]
     },
     "execution_count": 175,
     "metadata": {},
     "output_type": "execute_result"
    }
   ],
   "source": [
    "%%time\n",
    "groups_test = []\n",
    "for group_id in range(130, 310):\n",
    "    part = test_groups[test_groups.group_id == group_id]\n",
    "    arr = []\n",
    "    for doc_id in part['doc_id']:\n",
    "        if len(docs_titles[docs_titles.doc_id == doc_id]) == 0:\n",
    "            arr.append('')\n",
    "        else:\n",
    "            arr.append(docs_titles[docs_titles.doc_id == doc_id].iloc[0]['title'])\n",
    "    groups_test.append(arr)\n",
    "groups_test[0]"
   ]
  },
  {
   "cell_type": "code",
   "execution_count": 244,
   "metadata": {},
   "outputs": [],
   "source": [
    "cv = CountVectorizer(min_df=2, max_df=0.6)\n",
    "tf = TfidfTransformer()\n",
    "matrix_train = []\n",
    "for group in groups_train:\n",
    "    m = cv.fit_transform(group).toarray()\n",
    "    matrix_train.append(tf.fit_transform(m).toarray())"
   ]
  },
  {
   "cell_type": "code",
   "execution_count": 245,
   "metadata": {},
   "outputs": [],
   "source": [
    "matrix_test = []\n",
    "for group in groups_test:\n",
    "    m = cv.fit_transform(group).toarray()\n",
    "    matrix_test.append(tf.fit_transform(m).toarray())"
   ]
  },
  {
   "cell_type": "code",
   "execution_count": 246,
   "metadata": {},
   "outputs": [
    {
     "data": {
      "text/plain": [
       "False"
      ]
     },
     "execution_count": 246,
     "metadata": {},
     "output_type": "execute_result"
    }
   ],
   "source": [
    "np.any(matrix_train[0] == np.nan)"
   ]
  },
  {
   "cell_type": "code",
   "execution_count": 247,
   "metadata": {},
   "outputs": [
    {
     "data": {
      "text/plain": [
       "129"
      ]
     },
     "execution_count": 247,
     "metadata": {},
     "output_type": "execute_result"
    }
   ],
   "source": [
    "len(matrix_train)"
   ]
  },
  {
   "cell_type": "code",
   "execution_count": 248,
   "metadata": {},
   "outputs": [
    {
     "data": {
      "text/plain": [
       "180"
      ]
     },
     "execution_count": 248,
     "metadata": {},
     "output_type": "execute_result"
    }
   ],
   "source": [
    "len(matrix_test)"
   ]
  },
  {
   "cell_type": "code",
   "execution_count": 249,
   "metadata": {},
   "outputs": [],
   "source": [
    "from scipy.spatial.distance import pdist, squareform"
   ]
  },
  {
   "cell_type": "code",
   "execution_count": 250,
   "metadata": {},
   "outputs": [
    {
     "name": "stdout",
     "output_type": "stream",
     "text": [
      "\r",
      " 0 done\n",
      "\r",
      " 1 done\n",
      "\r",
      " 2 done\n",
      "\r",
      " 3 done\n",
      "\r",
      " 4 done\n",
      "\r",
      " 5 done\n",
      "\r",
      " 6 done\n",
      "\r",
      " 7 done\n",
      "\r",
      " 8 done\n",
      "\r",
      " 9 done\n",
      "\r",
      " 10 done\n",
      "\r",
      " 11 done\n",
      "\r",
      " 12 done\n",
      "\r",
      " 13 done\n",
      "\r",
      " 14 done\n",
      "\r",
      " 15 done\n",
      "\r",
      " 16 done\n",
      "\r",
      " 17 done\n",
      "\r",
      " 18 done\n",
      "\r",
      " 19 done\n",
      "\r",
      " 20 done\n",
      "\r",
      " 21 done\n",
      "\r",
      " 22 done\n",
      "\r",
      " 23 done\n",
      "\r",
      " 24 done\n",
      "\r",
      " 25 done\n",
      "\r",
      " 26 done\n",
      "\r",
      " 27 done\n",
      "\r",
      " 28 done\n",
      "\r",
      " 29 done\n",
      "\r",
      " 30 done\n",
      "\r",
      " 31 done\n",
      "\r",
      " 32 done\n",
      "\r",
      " 33 done\n",
      "\r",
      " 34 done\n",
      "\r",
      " 35 done\n",
      "\r",
      " 36 done\n",
      "\r",
      " 37 done\n",
      "\r",
      " 38 done\n",
      "\r",
      " 39 done\n",
      "\r",
      " 40 done\n",
      "\r",
      " 41 done\n",
      "\r",
      " 42 done\n",
      "\r",
      " 43 done\n",
      "\r",
      " 44 done\n",
      "\r",
      " 45 done\n",
      "\r",
      " 46 done\n",
      "\r",
      " 47 done\n",
      "\r",
      " 48 done\n",
      "\r",
      " 49 done\n",
      "\r",
      " 50 done\n",
      "\r",
      " 51 done\n",
      "\r",
      " 52 done\n",
      "\r",
      " 53 done\n",
      "\r",
      " 54 done\n",
      "\r",
      " 55 done\n",
      "\r",
      " 56 done\n",
      "\r",
      " 57 done\n",
      "\r",
      " 58 done\n",
      "\r",
      " 59 done\n",
      "\r",
      " 60 done\n",
      "\r",
      " 61 done\n",
      "\r",
      " 62 done\n",
      "\r",
      " 63 done\n",
      "\r",
      " 64 done\n",
      "\r",
      " 65 done\n",
      "\r",
      " 66 done\n",
      "\r",
      " 67 done\n",
      "\r",
      " 68 done\n",
      "\r",
      " 69 done\n",
      "\r",
      " 70 done\n",
      "\r",
      " 71 done\n",
      "\r",
      " 72 done\n",
      "\r",
      " 73 done\n",
      "\r",
      " 74 done\n",
      "\r",
      " 75 done\n",
      "\r",
      " 76 done\n",
      "\r",
      " 77 done\n",
      "\r",
      " 78 done\n",
      "\r",
      " 79 done\n",
      "\r",
      " 80 done\n",
      "\r",
      " 81 done\n",
      "\r",
      " 82 done\n",
      "\r",
      " 83 done\n",
      "\r",
      " 84 done\n",
      "\r",
      " 85 done\n",
      "\r",
      " 86 done\n",
      "\r",
      " 87 done\n",
      "\r",
      " 88 done\n",
      "\r",
      " 89 done\n",
      "\r",
      " 90 done\n",
      "\r",
      " 91 done\n",
      "\r",
      " 92 done\n",
      "\r",
      " 93 done\n",
      "\r",
      " 94 done\n",
      "\r",
      " 95 done\n",
      "\r",
      " 96 done\n",
      "\r",
      " 97 done\n",
      "\r",
      " 98 done\n",
      "\r",
      " 99 done\n",
      "\r",
      " 100 done\n",
      "\r",
      " 101 done\n",
      "\r",
      " 102 done\n",
      "\r",
      " 103 done\n",
      "\r",
      " 104 done\n",
      "\r",
      " 105 done\n",
      "\r",
      " 106 done\n",
      "\r",
      " 107 done\n",
      "\r",
      " 108 done\n",
      "\r",
      " 109 done\n",
      "\r",
      " 110 done\n",
      "\r",
      " 111 done\n",
      "\r",
      " 112 done\n",
      "\r",
      " 113 done\n",
      "\r",
      " 114 done\n",
      "\r",
      " 115 done\n",
      "\r",
      " 116 done\n",
      "\r",
      " 117 done\n",
      "\r",
      " 118 done\n",
      "\r",
      " 119 done\n",
      "\r",
      " 120 done\n",
      "\r",
      " 121 done\n",
      "\r",
      " 122 done\n",
      "\r",
      " 123 done\n",
      "\r",
      " 124 done\n",
      "\r",
      " 125 done\n",
      "\r",
      " 126 done\n",
      "\r",
      " 127 done\n",
      "\r",
      " 128 done\n"
     ]
    }
   ],
   "source": [
    "dists = []\n",
    "for i in range(len(matrix_train)):\n",
    "    dist = pdist(matrix_train[i], metric='cosine')\n",
    "    dist = squareform(dist)\n",
    "    dists.append(dist)\n",
    "    print(\"\\r {} done\".format(i))"
   ]
  },
  {
   "cell_type": "code",
   "execution_count": 251,
   "metadata": {},
   "outputs": [
    {
     "data": {
      "text/plain": [
       "False"
      ]
     },
     "execution_count": 251,
     "metadata": {},
     "output_type": "execute_result"
    }
   ],
   "source": [
    "np.any(dists[1] is np.nan)"
   ]
  },
  {
   "cell_type": "code",
   "execution_count": 252,
   "metadata": {},
   "outputs": [
    {
     "data": {
      "text/plain": [
       "(102, 102)"
      ]
     },
     "execution_count": 252,
     "metadata": {},
     "output_type": "execute_result"
    }
   ],
   "source": [
    "dists[0].shape"
   ]
  },
  {
   "cell_type": "code",
   "execution_count": 253,
   "metadata": {},
   "outputs": [],
   "source": [
    "for i in range(129):\n",
    "    dists[i] = np.sort(dists[i], axis=1)\n",
    "    dists[i] = dists[i][:, 1:21]"
   ]
  },
  {
   "cell_type": "code",
   "execution_count": 254,
   "metadata": {},
   "outputs": [
    {
     "data": {
      "text/plain": [
       "(102, 20)"
      ]
     },
     "execution_count": 254,
     "metadata": {},
     "output_type": "execute_result"
    }
   ],
   "source": [
    "dists[0].shape"
   ]
  },
  {
   "cell_type": "code",
   "execution_count": 255,
   "metadata": {},
   "outputs": [],
   "source": [
    "X = dists[0]\n",
    "for i in range(1, 129):\n",
    "    X = np.vstack((X, dists[i]))"
   ]
  },
  {
   "cell_type": "code",
   "execution_count": 282,
   "metadata": {},
   "outputs": [
    {
     "data": {
      "text/plain": [
       "array([[0.        , 0.15246438, 0.36250281, ..., 0.74378225, 0.74633308,\n",
       "        0.75779982],\n",
       "       [0.32427187, 0.34722545, 0.35323427, ..., 0.86263384, 0.86642534,\n",
       "        0.86681234],\n",
       "       [0.44874844, 0.53692262, 0.53964096, ..., 0.75550835, 0.75718391,\n",
       "        0.76228723],\n",
       "       ...,\n",
       "       [1.        , 1.        , 1.        , ..., 1.        , 1.        ,\n",
       "        1.        ],\n",
       "       [0.        , 1.        , 1.        , ..., 1.        , 1.        ,\n",
       "        1.        ],\n",
       "       [0.45285815, 0.53357501, 0.66450756, ..., 1.        , 1.        ,\n",
       "        1.        ]])"
      ]
     },
     "execution_count": 282,
     "metadata": {},
     "output_type": "execute_result"
    }
   ],
   "source": [
    "X[np.isnan(X)] = 1\n",
    "X"
   ]
  },
  {
   "cell_type": "code",
   "execution_count": 256,
   "metadata": {},
   "outputs": [
    {
     "name": "stdout",
     "output_type": "stream",
     "text": [
      "\r",
      " 0 done\n",
      "\r",
      " 1 done\n",
      "\r",
      " 2 done\n",
      "\r",
      " 3 done\n",
      "\r",
      " 4 done\n",
      "\r",
      " 5 done\n",
      "\r",
      " 6 done\n",
      "\r",
      " 7 done\n",
      "\r",
      " 8 done\n",
      "\r",
      " 9 done\n",
      "\r",
      " 10 done\n",
      "\r",
      " 11 done\n",
      "\r",
      " 12 done\n",
      "\r",
      " 13 done\n",
      "\r",
      " 14 done\n",
      "\r",
      " 15 done\n",
      "\r",
      " 16 done\n",
      "\r",
      " 17 done\n",
      "\r",
      " 18 done\n",
      "\r",
      " 19 done\n",
      "\r",
      " 20 done\n",
      "\r",
      " 21 done\n",
      "\r",
      " 22 done\n",
      "\r",
      " 23 done\n",
      "\r",
      " 24 done\n",
      "\r",
      " 25 done\n",
      "\r",
      " 26 done\n",
      "\r",
      " 27 done\n",
      "\r",
      " 28 done\n",
      "\r",
      " 29 done\n",
      "\r",
      " 30 done\n",
      "\r",
      " 31 done\n",
      "\r",
      " 32 done\n",
      "\r",
      " 33 done\n",
      "\r",
      " 34 done\n",
      "\r",
      " 35 done\n",
      "\r",
      " 36 done\n",
      "\r",
      " 37 done\n",
      "\r",
      " 38 done\n",
      "\r",
      " 39 done\n",
      "\r",
      " 40 done\n",
      "\r",
      " 41 done\n",
      "\r",
      " 42 done\n",
      "\r",
      " 43 done\n",
      "\r",
      " 44 done\n",
      "\r",
      " 45 done\n",
      "\r",
      " 46 done\n",
      "\r",
      " 47 done\n",
      "\r",
      " 48 done\n",
      "\r",
      " 49 done\n",
      "\r",
      " 50 done\n",
      "\r",
      " 51 done\n",
      "\r",
      " 52 done\n",
      "\r",
      " 53 done\n",
      "\r",
      " 54 done\n",
      "\r",
      " 55 done\n",
      "\r",
      " 56 done\n",
      "\r",
      " 57 done\n",
      "\r",
      " 58 done\n",
      "\r",
      " 59 done\n",
      "\r",
      " 60 done\n",
      "\r",
      " 61 done\n",
      "\r",
      " 62 done\n",
      "\r",
      " 63 done\n",
      "\r",
      " 64 done\n",
      "\r",
      " 65 done\n",
      "\r",
      " 66 done\n",
      "\r",
      " 67 done\n",
      "\r",
      " 68 done\n",
      "\r",
      " 69 done\n",
      "\r",
      " 70 done\n",
      "\r",
      " 71 done\n",
      "\r",
      " 72 done\n",
      "\r",
      " 73 done\n",
      "\r",
      " 74 done\n",
      "\r",
      " 75 done\n",
      "\r",
      " 76 done\n",
      "\r",
      " 77 done\n",
      "\r",
      " 78 done\n",
      "\r",
      " 79 done\n",
      "\r",
      " 80 done\n",
      "\r",
      " 81 done\n",
      "\r",
      " 82 done\n",
      "\r",
      " 83 done\n",
      "\r",
      " 84 done\n",
      "\r",
      " 85 done\n",
      "\r",
      " 86 done\n",
      "\r",
      " 87 done\n",
      "\r",
      " 88 done\n",
      "\r",
      " 89 done\n",
      "\r",
      " 90 done\n",
      "\r",
      " 91 done\n",
      "\r",
      " 92 done\n",
      "\r",
      " 93 done\n",
      "\r",
      " 94 done\n",
      "\r",
      " 95 done\n",
      "\r",
      " 96 done\n",
      "\r",
      " 97 done\n",
      "\r",
      " 98 done\n",
      "\r",
      " 99 done\n",
      "\r",
      " 100 done\n",
      "\r",
      " 101 done\n",
      "\r",
      " 102 done\n",
      "\r",
      " 103 done\n",
      "\r",
      " 104 done\n",
      "\r",
      " 105 done\n",
      "\r",
      " 106 done\n",
      "\r",
      " 107 done\n",
      "\r",
      " 108 done\n",
      "\r",
      " 109 done\n",
      "\r",
      " 110 done\n",
      "\r",
      " 111 done\n",
      "\r",
      " 112 done\n",
      "\r",
      " 113 done\n",
      "\r",
      " 114 done\n",
      "\r",
      " 115 done\n",
      "\r",
      " 116 done\n",
      "\r",
      " 117 done\n",
      "\r",
      " 118 done\n",
      "\r",
      " 119 done\n",
      "\r",
      " 120 done\n",
      "\r",
      " 121 done\n",
      "\r",
      " 122 done\n",
      "\r",
      " 123 done\n",
      "\r",
      " 124 done\n",
      "\r",
      " 125 done\n",
      "\r",
      " 126 done\n",
      "\r",
      " 127 done\n",
      "\r",
      " 128 done\n",
      "\r",
      " 129 done\n",
      "\r",
      " 130 done\n",
      "\r",
      " 131 done\n",
      "\r",
      " 132 done\n",
      "\r",
      " 133 done\n",
      "\r",
      " 134 done\n",
      "\r",
      " 135 done\n",
      "\r",
      " 136 done\n",
      "\r",
      " 137 done\n",
      "\r",
      " 138 done\n",
      "\r",
      " 139 done\n",
      "\r",
      " 140 done\n",
      "\r",
      " 141 done\n",
      "\r",
      " 142 done\n",
      "\r",
      " 143 done\n",
      "\r",
      " 144 done\n",
      "\r",
      " 145 done\n",
      "\r",
      " 146 done\n",
      "\r",
      " 147 done\n",
      "\r",
      " 148 done\n",
      "\r",
      " 149 done\n",
      "\r",
      " 150 done\n",
      "\r",
      " 151 done\n",
      "\r",
      " 152 done\n",
      "\r",
      " 153 done\n",
      "\r",
      " 154 done\n",
      "\r",
      " 155 done\n",
      "\r",
      " 156 done\n",
      "\r",
      " 157 done\n",
      "\r",
      " 158 done\n",
      "\r",
      " 159 done\n",
      "\r",
      " 160 done\n",
      "\r",
      " 161 done\n",
      "\r",
      " 162 done\n",
      "\r",
      " 163 done\n",
      "\r",
      " 164 done\n",
      "\r",
      " 165 done\n",
      "\r",
      " 166 done\n",
      "\r",
      " 167 done\n",
      "\r",
      " 168 done\n",
      "\r",
      " 169 done\n",
      "\r",
      " 170 done\n",
      "\r",
      " 171 done\n",
      "\r",
      " 172 done\n",
      "\r",
      " 173 done\n",
      "\r",
      " 174 done\n",
      "\r",
      " 175 done\n",
      "\r",
      " 176 done\n",
      "\r",
      " 177 done\n",
      "\r",
      " 178 done\n",
      "\r",
      " 179 done\n"
     ]
    }
   ],
   "source": [
    "dists = []\n",
    "for i in range(len(matrix_test)):\n",
    "    dist = pdist(matrix_test[i], metric='cosine')\n",
    "    dist = squareform(dist)\n",
    "    dists.append(dist)\n",
    "    print(\"\\r {} done\".format(i))"
   ]
  },
  {
   "cell_type": "code",
   "execution_count": 257,
   "metadata": {},
   "outputs": [],
   "source": [
    "for i in range(180):\n",
    "    dists[i] = np.sort(dists[i], axis=1)\n",
    "    dists[i] = dists[i][:, 1:21]"
   ]
  },
  {
   "cell_type": "code",
   "execution_count": 258,
   "metadata": {},
   "outputs": [],
   "source": [
    "X_test = dists[0]\n",
    "for i in range(1, 180):\n",
    "    X_test = np.vstack((X_test, dists[i]))"
   ]
  },
  {
   "cell_type": "code",
   "execution_count": 283,
   "metadata": {},
   "outputs": [],
   "source": [
    "X_test[np.isnan(X_test)] = 1"
   ]
  },
  {
   "cell_type": "code",
   "execution_count": 260,
   "metadata": {},
   "outputs": [],
   "source": [
    "y_train = []\n",
    "for gr in target_groups:\n",
    "    y_train = y_train + gr"
   ]
  },
  {
   "cell_type": "code",
   "execution_count": 261,
   "metadata": {},
   "outputs": [],
   "source": [
    "from lightgbm import LGBMClassifier\n",
    "from sklearn.model_selection import train_test_split"
   ]
  },
  {
   "cell_type": "code",
   "execution_count": 262,
   "metadata": {},
   "outputs": [],
   "source": [
    "params = {\n",
    "    'objective' :'binary',\n",
    "    'learning_rate' : 0.02,\n",
    "    'num_leaves' : 76,\n",
    "    'feature_fraction': 0.64, \n",
    "    'bagging_fraction': 0.8, \n",
    "    'bagging_freq':1,\n",
    "    'boosting_type' : 'gbdt',\n",
    "    'metric': 'f1_score'\n",
    "}\n",
    "X_train, X_valid, Y_train, Y_valid = train_test_split(X,  y_train, random_state=34523, test_size=0.33)\n",
    "    \n",
    "    \n",
    "d_train = lgbm.Dataset(X_train, Y_train)\n",
    "d_valid = lgbm.Dataset(X_valid, Y_valid)\n",
    "\n",
    "bst = lgbm.train(params, d_train, 5000, valid_sets=[d_valid], verbose_eval=50)\n",
    "pred = bst.predict(X_test)"
   ]
  },
  {
   "cell_type": "code",
   "execution_count": 263,
   "metadata": {},
   "outputs": [],
   "source": [
    "lg = LGBMClassifier(num_leaves=4095)\n",
    "X_train, X_val, y, y_val = train_test_split(X,  y_train, random_state=345433, test_size=0.33)"
   ]
  },
  {
   "cell_type": "code",
   "execution_count": 264,
   "metadata": {},
   "outputs": [
    {
     "name": "stdout",
     "output_type": "stream",
     "text": [
      "0.5415384615384615\n"
     ]
    }
   ],
   "source": [
    "lg.fit(X_train, y)\n",
    "res = lg.predict(X_val)\n",
    "print(f1_score(res, y_val))"
   ]
  },
  {
   "cell_type": "code",
   "execution_count": 269,
   "metadata": {},
   "outputs": [],
   "source": [
    "for i in range(pred.size):\n",
    "    if pred[i] >= 0.5:\n",
    "        pred[i] = 1\n",
    "    else:\n",
    "        pred[i] = 0\n",
    "data = {'pair_id' : range(11691, 28318), 'target': pred.astype(int)}\n",
    "res = pd.DataFrame(data)\n",
    "res.to_csv('sec_pred.csv', index=False)"
   ]
  },
  {
   "cell_type": "code",
   "execution_count": 266,
   "metadata": {},
   "outputs": [],
   "source": [
    "from sklearn.linear_model import SGDClassifier"
   ]
  },
  {
   "cell_type": "code",
   "execution_count": null,
   "metadata": {},
   "outputs": [
    {
     "name": "stdout",
     "output_type": "stream",
     "text": [
      "DONE for loss: hinge, penalty: none, alpha: 0.0001, score = 0.4037499848424218\n",
      "DONE for loss: hinge, penalty: none, alpha: 0.001, score = 0.4390788267906209\n",
      "DONE for loss: hinge, penalty: none, alpha: 0.01, score = 0.415224848709044\n",
      "DONE for loss: hinge, penalty: none, alpha: 0.1, score = 0.2524193089976482\n",
      "DONE for loss: hinge, penalty: l2, alpha: 0.0001, score = 0.4169921895553936\n",
      "DONE for loss: hinge, penalty: l2, alpha: 0.001, score = 0.3820414240634715\n",
      "DONE for loss: hinge, penalty: l2, alpha: 0.01, score = 0.3739837799160552\n",
      "DONE for loss: hinge, penalty: l2, alpha: 0.1, score = 0.11671024724715999\n",
      "DONE for loss: hinge, penalty: l1, alpha: 0.0001, score = 0.3726942995295805\n",
      "DONE for loss: hinge, penalty: l1, alpha: 0.001, score = 0.3784639957679909\n",
      "DONE for loss: hinge, penalty: l1, alpha: 0.01, score = 0.14419693506144843\n",
      "DONE for loss: hinge, penalty: l1, alpha: 0.1, score = 0.0\n"
     ]
    },
    {
     "name": "stderr",
     "output_type": "stream",
     "text": [
      "/Users/azelentsov/PycharmProjects/ml/venv/lib/python3.6/site-packages/sklearn/metrics/classification.py:1439: UndefinedMetricWarning: F-score is ill-defined and being set to 0.0 due to no true samples.\n",
      "  'recall', 'true', average, warn_for)\n",
      "/Users/azelentsov/PycharmProjects/ml/venv/lib/python3.6/site-packages/sklearn/metrics/classification.py:1439: UndefinedMetricWarning: F-score is ill-defined and being set to 0.0 due to no true samples.\n",
      "  'recall', 'true', average, warn_for)\n",
      "/Users/azelentsov/PycharmProjects/ml/venv/lib/python3.6/site-packages/sklearn/metrics/classification.py:1439: UndefinedMetricWarning: F-score is ill-defined and being set to 0.0 due to no true samples.\n",
      "  'recall', 'true', average, warn_for)\n"
     ]
    },
    {
     "name": "stdout",
     "output_type": "stream",
     "text": [
      "DONE for loss: hinge, penalty: elasticnet, alpha: 0.0001, score = 0.4656167398474811\n",
      "DONE for loss: hinge, penalty: elasticnet, alpha: 0.001, score = 0.43721278413820186\n",
      "DONE for loss: hinge, penalty: elasticnet, alpha: 0.01, score = 0.36881446341826796\n",
      "DONE for loss: hinge, penalty: elasticnet, alpha: 0.1, score = 0.001777777777777778\n"
     ]
    },
    {
     "name": "stderr",
     "output_type": "stream",
     "text": [
      "/Users/azelentsov/PycharmProjects/ml/venv/lib/python3.6/site-packages/sklearn/metrics/classification.py:1439: UndefinedMetricWarning: F-score is ill-defined and being set to 0.0 due to no true samples.\n",
      "  'recall', 'true', average, warn_for)\n",
      "/Users/azelentsov/PycharmProjects/ml/venv/lib/python3.6/site-packages/sklearn/metrics/classification.py:1439: UndefinedMetricWarning: F-score is ill-defined and being set to 0.0 due to no true samples.\n",
      "  'recall', 'true', average, warn_for)\n"
     ]
    },
    {
     "name": "stdout",
     "output_type": "stream",
     "text": [
      "DONE for loss: log, penalty: none, alpha: 0.0001, score = 0.5228751953248173\n",
      "DONE for loss: log, penalty: none, alpha: 0.001, score = 0.4679057393379635\n",
      "DONE for loss: log, penalty: none, alpha: 0.01, score = 0.45617998436949847\n",
      "DONE for loss: log, penalty: none, alpha: 0.1, score = 0.35562082828124675\n",
      "DONE for loss: log, penalty: l2, alpha: 0.0001, score = 0.4160808093809658\n",
      "DONE for loss: log, penalty: l2, alpha: 0.001, score = 0.42841492953181043\n",
      "DONE for loss: log, penalty: l2, alpha: 0.01, score = 0.43482153033365084\n",
      "DONE for loss: log, penalty: l2, alpha: 0.1, score = 0.15162304614314195\n",
      "DONE for loss: log, penalty: l1, alpha: 0.0001, score = 0.44280682063150456\n",
      "DONE for loss: log, penalty: l1, alpha: 0.001, score = 0.44544730291661166\n",
      "DONE for loss: log, penalty: l1, alpha: 0.01, score = 0.3509036500217937\n",
      "DONE for loss: log, penalty: l1, alpha: 0.1, score = 0.0\n"
     ]
    },
    {
     "name": "stderr",
     "output_type": "stream",
     "text": [
      "/Users/azelentsov/PycharmProjects/ml/venv/lib/python3.6/site-packages/sklearn/metrics/classification.py:1439: UndefinedMetricWarning: F-score is ill-defined and being set to 0.0 due to no true samples.\n",
      "  'recall', 'true', average, warn_for)\n",
      "/Users/azelentsov/PycharmProjects/ml/venv/lib/python3.6/site-packages/sklearn/metrics/classification.py:1439: UndefinedMetricWarning: F-score is ill-defined and being set to 0.0 due to no true samples.\n",
      "  'recall', 'true', average, warn_for)\n",
      "/Users/azelentsov/PycharmProjects/ml/venv/lib/python3.6/site-packages/sklearn/metrics/classification.py:1439: UndefinedMetricWarning: F-score is ill-defined and being set to 0.0 due to no true samples.\n",
      "  'recall', 'true', average, warn_for)\n"
     ]
    },
    {
     "name": "stdout",
     "output_type": "stream",
     "text": [
      "DONE for loss: log, penalty: elasticnet, alpha: 0.0001, score = 0.5490332401793477\n",
      "DONE for loss: log, penalty: elasticnet, alpha: 0.001, score = 0.43756109889421224\n",
      "DONE for loss: log, penalty: elasticnet, alpha: 0.01, score = 0.4319804462846741\n",
      "DONE for loss: log, penalty: elasticnet, alpha: 0.1, score = 0.012507329751660091\n",
      "DONE for loss: modified_huber, penalty: none, alpha: 0.0001, score = 0.48064646630305646\n",
      "DONE for loss: modified_huber, penalty: none, alpha: 0.001, score = 0.4029266081243053\n",
      "DONE for loss: modified_huber, penalty: none, alpha: 0.01, score = 0.4554532261574447\n",
      "DONE for loss: modified_huber, penalty: none, alpha: 0.1, score = 0.4502102526441676\n",
      "DONE for loss: modified_huber, penalty: l2, alpha: 0.0001, score = 0.46779974189376183\n",
      "DONE for loss: modified_huber, penalty: l2, alpha: 0.001, score = 0.426727518395196\n",
      "DONE for loss: modified_huber, penalty: l2, alpha: 0.01, score = 0.44108296867255065\n",
      "DONE for loss: modified_huber, penalty: l2, alpha: 0.1, score = 0.42404524156407425\n",
      "DONE for loss: modified_huber, penalty: l1, alpha: 0.0001, score = 0.3751247860382159\n",
      "DONE for loss: modified_huber, penalty: l1, alpha: 0.001, score = 0.4374896859672819\n",
      "DONE for loss: modified_huber, penalty: l1, alpha: 0.01, score = 0.4250081309690055\n",
      "DONE for loss: modified_huber, penalty: l1, alpha: 0.1, score = 0.03830770105709494\n"
     ]
    },
    {
     "name": "stderr",
     "output_type": "stream",
     "text": [
      "/Users/azelentsov/PycharmProjects/ml/venv/lib/python3.6/site-packages/sklearn/metrics/classification.py:1439: UndefinedMetricWarning: F-score is ill-defined and being set to 0.0 due to no true samples.\n",
      "  'recall', 'true', average, warn_for)\n"
     ]
    },
    {
     "name": "stdout",
     "output_type": "stream",
     "text": [
      "DONE for loss: modified_huber, penalty: elasticnet, alpha: 0.0001, score = 0.48418027343150616\n",
      "DONE for loss: modified_huber, penalty: elasticnet, alpha: 0.001, score = 0.45671443152469154\n",
      "DONE for loss: modified_huber, penalty: elasticnet, alpha: 0.01, score = 0.4895941310084893\n",
      "DONE for loss: modified_huber, penalty: elasticnet, alpha: 0.1, score = 0.3840559589731864\n",
      "DONE for loss: squared_hinge, penalty: none, alpha: 0.0001, score = 0.43982718762257994\n",
      "DONE for loss: squared_hinge, penalty: none, alpha: 0.001, score = 0.46654333500967343\n"
     ]
    }
   ],
   "source": [
    "j = 0\n",
    "for loss in ['hinge', 'log', 'modified_huber', 'squared_hinge', 'perceptron']:\n",
    "    for penalty in ['none', 'l2', 'l1', 'elasticnet']:\n",
    "        for alpha in [0.0001, 0.001, 0.01, 0.1]:\n",
    "            j += 1\n",
    "            score = 0.0\n",
    "            for i in range(3):\n",
    "                X_train, X_val, y, y_val = train_test_split(X,  y_train, random_state=j+i, test_size=0.33)\n",
    "                clf = SGDClassifier(loss=loss, penalty=penalty, alpha=alpha, max_iter=100000).fit(X_train, y)\n",
    "                pred = clf.predict(X_val)\n",
    "                score += f1_score(pred, y_val)\n",
    "            score /= 3\n",
    "            print('DONE for loss: {}, penalty: {}, alpha: {}, score = {}'.format(loss, penalty, alpha, score))"
   ]
  },
  {
   "cell_type": "code",
   "execution_count": null,
   "metadata": {},
   "outputs": [],
   "source": []
  },
  {
   "cell_type": "code",
   "execution_count": null,
   "metadata": {},
   "outputs": [],
   "source": []
  },
  {
   "cell_type": "code",
   "execution_count": null,
   "metadata": {},
   "outputs": [],
   "source": []
  },
  {
   "cell_type": "code",
   "execution_count": null,
   "metadata": {},
   "outputs": [],
   "source": []
  },
  {
   "cell_type": "code",
   "execution_count": null,
   "metadata": {},
   "outputs": [],
   "source": []
  },
  {
   "cell_type": "code",
   "execution_count": null,
   "metadata": {},
   "outputs": [],
   "source": []
  },
  {
   "cell_type": "code",
   "execution_count": null,
   "metadata": {},
   "outputs": [],
   "source": []
  },
  {
   "cell_type": "code",
   "execution_count": null,
   "metadata": {},
   "outputs": [],
   "source": []
  },
  {
   "cell_type": "code",
   "execution_count": 21,
   "metadata": {},
   "outputs": [],
   "source": [
    "docs_titles['title'] = [text.lower() for text in docs_titles['title']]\n",
    "docs_titles['title'] = [re.sub('[^0-9a-zA-ZА-Яа-я]+', ' ', text) for text in docs_titles['title']]\n",
    "def norm(text):\n",
    "    res = ''\n",
    "    for word in text.split():\n",
    "        if word != '':\n",
    "            t = ma.parse(word)[0].normal_form\n",
    "            res = res + t\n",
    "            res = res + ' '\n",
    "    return res\n",
    "\n",
    "with Pool(10) as pool:\n",
    "    docs_titles['title'] = list(pool.map(norm, docs_titles['title']))"
   ]
  },
  {
   "cell_type": "code",
   "execution_count": 22,
   "metadata": {},
   "outputs": [],
   "source": [
    "test_groups = pd.read_csv('anomaly-detection-competition-ml1-ts-fall-2019/test_groups.csv')"
   ]
  },
  {
   "cell_type": "code",
   "execution_count": 23,
   "metadata": {},
   "outputs": [],
   "source": [
    "train_groups = pd.read_csv('anomaly-detection-competition-ml1-ts-fall-2019/train_groups.csv')"
   ]
  },
  {
   "cell_type": "markdown",
   "metadata": {},
   "source": [
    "Переведем заголовки в нужный нам формат, чтобы потом сделать из них матрицу - отдельную для каждой группы"
   ]
  },
  {
   "cell_type": "code",
   "execution_count": 24,
   "metadata": {},
   "outputs": [
    {
     "name": "stdout",
     "output_type": "stream",
     "text": [
      "CPU times: user 16.3 s, sys: 35.5 ms, total: 16.3 s\n",
      "Wall time: 16.4 s\n"
     ]
    },
    {
     "data": {
      "text/plain": [
       "['ваза 21213 замена подшипник ступица нива ',\n",
       " 'ваза 2107 оптом в сочи сравнить цена купить потребительский товар на tiu ru ',\n",
       " 'купить ступица лада калина2 трансмиссия переходный ступица цена замена тюнинг ',\n",
       " 'классика 21010 21074 ',\n",
       " 'ступица нива замена подшипник свой рука ',\n",
       " 'ваза 2110 ',\n",
       " 'обзор подшипник полуось ваза 2101 07 2121 2123 ',\n",
       " 'купить подшипник и ступица fag страница 23 ',\n",
       " 'horsepowers автомобильный интернет портал отзыв владелец ваза 2121 нива 2007 год ',\n",
       " 'новость и сообщение из официальный группа вконтакте торговый компания 33 sport магазин тольятти ',\n",
       " 'инструкция по замена подшипник передний ступица ивеко дейли через dorognoekam ru ',\n",
       " 'ступица olx ua страница 80 ',\n",
       " 'маааленький проблёмкий бортжурнал автокам 2160 1994 год на drive2 ',\n",
       " 'разгрузить полуось для нива 24 шлиц 765 мм ',\n",
       " 'прошивка для нива м7 9 7 скачать файлообменник emqraty6 foxkirov ru ',\n",
       " 'страница 6 раздел каталог подвеска ',\n",
       " 'продать нива 2121 ',\n",
       " 'рекомендация по проведение независимый экспертиза осаго ',\n",
       " 'втулка подшипник в омск сравнить цена и поставщик промышленный товар на tiu ru ',\n",
       " 'шеврол блейзер елабуга руководство по эксплуатация инструкция и совет ',\n",
       " 'привод шрусый пыльник шрусый страница 3 ',\n",
       " 'автомобиль маз в калининград интернет магазин и компания с стоимость в каталог купить автомобиль маз цена на сайт propartner ',\n",
       " 'ваза 2103 в украина сравнить цена купить потребительский товар на prom ua страница 86 ',\n",
       " 'купить подшипник цена до 1 000 рубль в киров магазин город страница 5 ',\n",
       " 'купить запчасть на ваза в воронеж доска объявление камелот ',\n",
       " 'опора передний амортизатор какой выбрать подвеска ',\n",
       " 'подшипник лада ваза в красноярск ',\n",
       " 'автозапчасть тендер торг закупка национальный тендерный портал tenderguru ru ',\n",
       " 'замена и регулировка передний ступичный подшипник нива нива ремонт ',\n",
       " 'разборка передний тормозной механизм ваза 21213 нива ',\n",
       " 'вс тот же коробка передача бортжурнал fiat albea алька 2008 год на drive2 ',\n",
       " 'продажа ваза нива 2121 2011 год в курган продать lada 4x4 нива в отличный технический состояние обмен на более дорогой на равноценный на более дешёвый 4wd ',\n",
       " 'ваза 2108 ',\n",
       " 'интернет магазин ооо автокомпас ',\n",
       " 'как заменить подшипник ступица передний колесо ваза 2121 ',\n",
       " 'развал ступица яплакалъ ',\n",
       " 'нужный помощь подвеска ',\n",
       " 'запчасть ваза газ заза москвич авто мото литература газ волга ',\n",
       " 'снятие и установка подшипник ступица нива 2121 нива 2131 ',\n",
       " 'ваза 2104 ',\n",
       " 'подшипник olimac drago dr7080 6307 2rs по цена 1 грн с доставка по полтавский область на zakupka com ',\n",
       " 'как снять ступица на ваза 2121 нива youtube ',\n",
       " 'замена подшипник ступица ваза 21213 21214 нива ',\n",
       " 'uaz patriot брать или не брать faq форум клуб patriot 4x4 ',\n",
       " 'каталог запчасть от интернет тв ',\n",
       " 'опрос помочь выбрать заза chance vortex estina б у kia spectra страница 10 форум wroom ru ',\n",
       " 'вал привод ваза 2121 нива в харьков сравнить цена купить потребительский товар на prom ua ',\n",
       " 'лада нива 2121 1997 в новокузнецк двигатель после кап ремонт 6000км 4wd коробка механический бензин ',\n",
       " 'jf stoll джи эф штоль ',\n",
       " 'сборка поворотный кулак с ступица на нива 2121 2123 автомобиль и автомобильный хозяйство автосервис чертёж в масштаб ру ',\n",
       " 'техношина подшипник в новокузнецк ',\n",
       " 'автозапчасть ваза олмить сервис ',\n",
       " 'ступица купить в винницкий область в интернет магазин низкий цена большой каталог быстрый доставка ступица фото отзыв ',\n",
       " 'купить лада 4x4 2121 нива 2010 в новый уренгой полный шумоизоляция электро котёл подножка усиленный прицепной устройство бензин бордовый пробег 76000 километр ',\n",
       " 'av autotechnik ',\n",
       " 'снятие задний ступичный подшипник ',\n",
       " 'весь изображение ступица ваза 2106 в сбор picsbase ru ',\n",
       " 'блог автомобильный клуб кулибинск клуб ',\n",
       " 'купить подшипник ступица газель next передний цена 3 061 35 р арт а21r23 3103145 интернет магазин новосибирск ',\n",
       " 'как смазать ступичный подшипник на нива шеврол видео avtoservis sobol ',\n",
       " 'средство для уход за автомобиль купить с скидка в кострома ',\n",
       " 'купить подшипник 180314 6314 2rs ct в полтава по цена 201 34 грн на zakupka com ',\n",
       " 'двигатель ',\n",
       " 'как поменять подшипник ступица нива шеврол видео ',\n",
       " 'подшипник маховик газ 3110 3302 дв 406 дв cummins с мета крышка 6203 кпк газ деталь машина пятигорск каталог автозапчасть газ ваза уаз lada деталь ',\n",
       " 'нива подшипник ступица 21213103020 купить в нижний новгород ',\n",
       " 'подшипник для автомобиль и спецтехник vbf купить в украина в интернет магазин низкий цена большой каталог быстрый доставка подшипник для автомобиль и спецтехник vbf фото отзыв ',\n",
       " 'ниваклуб новосибирск просмотр тема подготовка машина к зима ',\n",
       " 'нива 2121 в тольятти сравнить цена купить потребительский товар на tiu ru страница 13 ',\n",
       " 'задний ступица n16 2000г в nissan almera ii n16 mdash nissan almera клуб нисан альмер ',\n",
       " 'чертёж ',\n",
       " 'ремонт ваза 2131 свой рука ремонт ваза свой рука remontysvoimirukami ru ',\n",
       " 'глухой периодичный стук справа ',\n",
       " 'ваза 2121 страница 5 форум клуб ваза 2104 ',\n",
       " 'ступица в нижний тагил сравнить цена купить потребительский товар на tiu ru страница 4 ',\n",
       " 'замена воздушный фильтр на ваза 2108 2109 21099 видео ремонт авто свой рука видео и руководство по ремонт ',\n",
       " 'колпачок ступица ваза 2110 2170 от компания z24 купить в санкт петербург ',\n",
       " 'подшипник ступица ваза 2101 kraft от компания z24 купить в санкт петербург ',\n",
       " 'подшипник mannol ',\n",
       " 'как заменить передний ступичный подшипник на нива шеврол нива ',\n",
       " 'купить мкппа ваза лада в сочи сравнить цена на мкппа ваза лада в сочи на портал blizko ',\n",
       " 'renault symbol ваш мнение форум wroom ru ',\n",
       " 'простой разборка ступица нива ремонт ',\n",
       " 'потребительский товар ваза 2106 в беларусь сравнить цена купить потребительский товар на deal by ',\n",
       " 'замена подшипник передний ступица нива 21213 ',\n",
       " 'www pajero4x4 ru просмотр тема безрезультатный сход развал ',\n",
       " 'колхоз давать делиться кто от что колхозил на p10 nissan primera p10 вконтакте ',\n",
       " 'страница 103 автокомпектовать и запчасть прочее ',\n",
       " 'подшипник полуось в украина сравнить цена купить потребительский товар на prom ua страница 3 ',\n",
       " 'купить lada ваза 2121 4x4 с пробег в омск 2001 год цена 130 000 рубль авто ру ',\n",
       " 'промышленный и оптовый товар крестовина в омск сравнить цена и поставщик промышленный товар на tiu ru ',\n",
       " 'ваза 2111 ',\n",
       " 'техношина автозапчасть на отечественный автомобиль ',\n",
       " 'колесо зубчатый раздаточный коробка ваза 2121 чертёж 74 список деталь стоимость запчасть ',\n",
       " 'подшипник 6306 youtube ',\n",
       " 'innovate 3740 сетевой адаптер в прикуриватель lm 1 интернет магазин shop tuning ru ',\n",
       " 'объявление дзержинск рф главный портал город дзержинск нижегородский область ',\n",
       " 'замена ремень и цепь грм на автомобиль смотреть на видео на zamenagrm ru ',\n",
       " 'ваза 2121 замена подшипник ступица ',\n",
       " 'малолитражка с характер вездеход моделист конструктор ',\n",
       " 'ваза 2112 ремонт свой рука передний мост ремонт ваза свой рука remontysvoimirukami ru ',\n",
       " 'пежо 308 замена датчик давление масло ']"
      ]
     },
     "execution_count": 24,
     "metadata": {},
     "output_type": "execute_result"
    }
   ],
   "source": [
    "%%time\n",
    "groups_train = []\n",
    "target_groups = []\n",
    "for group_id in range(1, 130):\n",
    "    part = train_groups[train_groups.group_id == group_id]\n",
    "    arr = []\n",
    "    arr_t = []\n",
    "    for doc_id in part['doc_id']:\n",
    "        arr.append(docs_titles[docs_titles.doc_id == doc_id].iloc[0]['title'])\n",
    "        arr_t.append(part[part.doc_id == doc_id].iloc[0]['target'])\n",
    "    groups_train.append(arr)\n",
    "    target_groups.append(arr_t)\n",
    "groups_train[0]"
   ]
  },
  {
   "cell_type": "code",
   "execution_count": 25,
   "metadata": {},
   "outputs": [
    {
     "name": "stdout",
     "output_type": "stream",
     "text": [
      "CPU times: user 21.9 s, sys: 24.3 ms, total: 21.9 s\n",
      "Wall time: 21.9 s\n"
     ]
    },
    {
     "data": {
      "text/plain": [
       "['как прописать админк в кс 1 6 себя или друг youtube ',\n",
       " 'скачать sgl rp доработка слив мода mysql rp role play готовый сервер для samp 0 3 7 0 3z 0 3x 0 3e v sampe ru вс для samp и gta ',\n",
       " 'как прописать админк в кс 1 6 counter strike каталог стать игровой сообщество dream x ru counter strike портал ',\n",
       " 'как прописать простой админк в кс 1 6 ',\n",
       " 'подбор админовый для сервер по код 4 архив форум ozone ',\n",
       " 'каталог стать the best original portal in ukraine the best original portal in ukrain ',\n",
       " 'eugene kirian блог ',\n",
       " 'файл htaccess основной параметр увеличивать безопасность блог ',\n",
       " 'как дать себя админк в cs 1 6 на хостинг my arena ответ на игра вокруг свет и к другой игра ',\n",
       " 'joomla 2 5 убирать хлебный крошка с выбрать страница ',\n",
       " 'sa mp беседка архив страница 3 форум ozone ',\n",
       " 'чужой wifi форум на исходник ру ',\n",
       " 'спасибо за комментарий с плагин и без он ',\n",
       " 'cs amxmodmenu как прописать админк ',\n",
       " 'пароль на admin hack 3 7 в c s 1 6 ',\n",
       " 'как пользоваться сервер в кс видео ',\n",
       " 'как сделать свой сервер в кс 1 6 админк паутинка граб драка видео ',\n",
       " 'ответ mail ru вот создать свой сервак в кс 1 6 прописать ся админ но как комп перезагрузить ip адрес поменяться что можно сделата ',\n",
       " 'проблема в настройка админк hlds сервер cs 1 6 hlds сервер cs 1 6 форум cs hlds ru ',\n",
       " 'квантиум страница 4 guild black templars ',\n",
       " 'установка kerio control 8 2 3 на отдельный машина форум kerio rus ',\n",
       " 'как прописать кредит на рпг серов ксс ',\n",
       " 'вакансия координатор проект главный программист ',\n",
       " 'bmw m5 для gta san andreas с качественный детализация gta san andreas bmw m5 f10 gold скачать bmw x5m gold для gta san andreas скачать паинт на bmw для gta san andreas скачать гта 5 пиратка на пк r g mechanics гта 5 скачать на пк пиратка альфа rutor скачать гта 5 пиратка на пк как и где скачать гта 5 на пк пиратка 100 прохождение gta san andreas sunny mod gta san andreas sunny mod управление gta san andreas best mod прохождение посмотреть видео gta san andreas sunny mod 2010 скачать чита на гта возвращение в лос сантос чита на гта возвращение в лос сантос бесконечный патрон скачать сэйв для гта са возвращение в лос сантос ',\n",
       " 'хотеть новый пб без королевство кривая зеркало архив страница 2 civ club ',\n",
       " 'лк html5 личный кабинет аср mikbill ',\n",
       " 'сервер не отвечать помощь по amxbans csbans ru ',\n",
       " 'компьютер интернет запись в рубрика компьютер интернет дневник svetlana i 0902 liveinternet российский сервис онлайн дневник ',\n",
       " 'как прописать килла в cs go cs go рулетка от 5 рубль ',\n",
       " 'как как создать свой сервер в css v34 вс просто youtube ',\n",
       " 'хороший скрипт для сервер гта сампа ',\n",
       " 'функция для создание контекстный меню разный javascript форум dklab и denwer ',\n",
       " 'maikil ru блог maikil бесплатный скрипт для заработок в интернет страница 5 ',\n",
       " 'мир психология психологический чат ',\n",
       " 'wordpress установка плагин как установить плагин на вордпресс вручную ',\n",
       " 'thl t100s неофициальный прошивка 4pda ',\n",
       " 'сообщество steam руководство как открыть порт для killing floor ',\n",
       " 'изготовление сайт услуга gusev online ru форум ',\n",
       " 'без оффтоп технический поддержка uzonline архив страница 51 uforum uz ',\n",
       " 'какой купить роутереть ева ру женский интернет цифровой мир и программный обеспечение ',\n",
       " 'как дать себя админк на свой сервер майнкрафт ответ к 100к1 и другой игра ',\n",
       " 'как дать админк в сампа как прописать админк в сампа ',\n",
       " 'как давать админк в gta samp rp ru ',\n",
       " 'как прописать админк на хостинг csserv ru zebroid tv ',\n",
       " 'готовый сервер для css v34 соскина админовый backupertemplates ',\n",
       " 'консольный команда minecraft не работать ',\n",
       " 'как улучшить wifi симферопольский форум ',\n",
       " 'бесплатный ssl сертификат letsencrypt man sovet ru ',\n",
       " 'краткий обзор нововведение в laravel 5 4 ',\n",
       " 'как дать админк 4 уровень в гта сампа ',\n",
       " 'скачать cfg который взломать сервер ',\n",
       " 'как прописать админк прописывать админк как стать админ свой сервер мой статья каталог стать весь самый хороший для cs 1 6 ',\n",
       " 'админ летать minecraft ',\n",
       " 'как вводить свой пароль от админк в кс 1 6 активировать ответ на игра вокруг свет и к другой игра ',\n",
       " 'команда админовый гта сампа ',\n",
       " 'blog archives dialbittorrent ',\n",
       " 'как прописать главный админк в ксс 34 на хостинг myarena как установить главный админк в css v34 через myarena видео как прописать в ксс в 34 гл админк как прописать админк в ксс 34 социальный проблема общество ',\n",
       " 'правдоруба выпуск 01 07 2012 правдоруба ',\n",
       " 'как прописать админк в cs 1 6 на сво метр сервер ',\n",
       " 'как прописать админк в кс 1 6 ',\n",
       " 'скачать готовый сервер с паутинка и граб ',\n",
       " 'как защитить сервер css от взлом 16 март 2013 drees team play with pro ',\n",
       " 'проброс порт для доступ к камера через роутереть неофициальный форум технический поддержка hikvision ',\n",
       " 'боевой плагин для wordpress блоггинга инвестинг трейдинг ',\n",
       " 'нужный помощь modx evolution revolution вконтакте ',\n",
       " 'jayme g disbjayme твиттереть ',\n",
       " 'настройка dle для работа с бд использовать utf 8 datalife engine dle cyberforum ru ',\n",
       " 'как создать или купить сервер кс 1 6 с админка www fassen net видео с рфинга ',\n",
       " 'как через консоль прописать бан игрок в кс 1 6 ',\n",
       " 'форматирование текст в блог делать статья читабельный блогопрактик ',\n",
       " 'apache nginx phpmyadmin станок с чпу на форум cnc club ru ',\n",
       " '15 самый раздражать вещий в wordpress и как они исправить бизнес блог макс метелевый ',\n",
       " 'как летать с админка в rust ',\n",
       " 'как настроить админк по ник и пароль myarena ru css v34 www fassen net видео с рфинга ',\n",
       " 'super commands v 0 6 забавный команда ксс hp ',\n",
       " 'как прописать админк в кс 1 6 инструкция ',\n",
       " 'сайт в интернет centr lan ухта и сосногорск ',\n",
       " 'немного о безопасность cs сервер скачать файл для cs 1 6 ',\n",
       " 'f a q ошибка бд database error ',\n",
       " 'как дать креатив в майнкрафт ',\n",
       " 'оптимизация wordpress сайт seo плагин и чпу ',\n",
       " 'что прописать чтобы админ не кикать за чита rust ',\n",
       " 'вс для cs вс для cs и ваш сервер ',\n",
       " 'техподдержка чат voc страница 38 форум hostlite ',\n",
       " 'заработок на биржа вечный ссылка rotapost ru ',\n",
       " 'как устанавливать скрипт форум samp о мультиплеер для gta ',\n",
       " 'ivms 5200 страница 6 неофициальный форум технический поддержка hikvision ',\n",
       " 'защита wordpress при помощь файл htaccess ',\n",
       " 'сервис короткий ссылка на php форум web мастер и компьютерщик ',\n",
       " 'как создать сервер кс 1 6 админк фан сайт ивангай иван рудский eeoneguy youtube магазин ивангай ',\n",
       " 'администратор иркутский сервер cs 1 6 власть народ ',\n",
       " 'не мочь зайти в админк роутер страница 2 компьютерный помощь форум фан клуб лаборатория касперский ',\n",
       " 'играть в кс 1 6 на jail 1 youtube ',\n",
       " 'я забанить на сервер майнкрафт mine dest перед это я купить себя админк остаться ли привилечь вопрос о minecraft 4cheat ',\n",
       " 'как правильно забиндовать amxmodmenu youtube ',\n",
       " 'как прописать админк с бот cs 1 6 25 09 2014 youtube ',\n",
       " 'менять адрес сайт web gavzav name https https web gavzav name блог гавриила заславский про web ',\n",
       " 'сентябрь 2013 руководство drupalbook ru ']"
      ]
     },
     "execution_count": 25,
     "metadata": {},
     "output_type": "execute_result"
    }
   ],
   "source": [
    "%%time\n",
    "groups_test = []\n",
    "for group_id in range(130, 310):\n",
    "    part = test_groups[test_groups.group_id == group_id]\n",
    "    arr = []\n",
    "    for doc_id in part['doc_id']:\n",
    "        if len(docs_titles[docs_titles.doc_id == doc_id]) == 0:\n",
    "            arr.append('')\n",
    "        else:\n",
    "            arr.append(docs_titles[docs_titles.doc_id == doc_id].iloc[0]['title'])\n",
    "    groups_test.append(arr)\n",
    "groups_test[0]"
   ]
  },
  {
   "cell_type": "markdown",
   "metadata": {},
   "source": [
    "Переведём в матрицу и сразу применим tf-idf"
   ]
  },
  {
   "cell_type": "code",
   "execution_count": 28,
   "metadata": {},
   "outputs": [
    {
     "data": {
      "text/plain": [
       "(array([0, 1]), array([8329, 3361]))"
      ]
     },
     "execution_count": 28,
     "metadata": {},
     "output_type": "execute_result"
    }
   ],
   "source": [
    "magic_forest = IsolationForest(n_estimators=300, behaviour='new', contamination='auto')\n",
    "all_targ = np.array(train_groups['target'])\n",
    "n, c = np.unique(all_targ, return_counts=True)\n",
    "n, c"
   ]
  },
  {
   "cell_type": "markdown",
   "metadata": {},
   "source": [
    "Подобный подбор параметров для Isolation forest я решил убрать, так как score получался в лучшем случае 0.3"
   ]
  },
  {
   "cell_type": "code",
   "execution_count": 29,
   "metadata": {},
   "outputs": [
    {
     "name": "stdout",
     "output_type": "stream",
     "text": [
      "DONE FOR KERNEL = rbf DEGREE = 1 NU = 0.3, SCORE = 0.4117306579201234\n",
      "DONE FOR KERNEL = rbf DEGREE = 1 NU = 0.4, SCORE = 0.4025044722719141\n",
      "DONE FOR KERNEL = rbf DEGREE = 1 NU = 0.5, SCORE = 0.3947564744751146\n",
      "DONE FOR KERNEL = rbf DEGREE = 1 NU = 0.6, SCORE = 0.3715834118755891\n",
      "DONE FOR KERNEL = rbf DEGREE = 1 NU = 0.7, SCORE = 0.34838709677419355\n",
      "DONE FOR KERNEL = rbf DEGREE = 2 NU = 0.3, SCORE = 0.4117306579201234\n",
      "DONE FOR KERNEL = rbf DEGREE = 2 NU = 0.4, SCORE = 0.4025044722719141\n",
      "DONE FOR KERNEL = rbf DEGREE = 2 NU = 0.5, SCORE = 0.3947564744751146\n",
      "DONE FOR KERNEL = rbf DEGREE = 2 NU = 0.6, SCORE = 0.3715834118755891\n",
      "DONE FOR KERNEL = rbf DEGREE = 2 NU = 0.7, SCORE = 0.34838709677419355\n",
      "DONE FOR KERNEL = rbf DEGREE = 3 NU = 0.3, SCORE = 0.4117306579201234\n",
      "DONE FOR KERNEL = rbf DEGREE = 3 NU = 0.4, SCORE = 0.4025044722719141\n",
      "DONE FOR KERNEL = rbf DEGREE = 3 NU = 0.5, SCORE = 0.3947564744751146\n",
      "DONE FOR KERNEL = rbf DEGREE = 3 NU = 0.6, SCORE = 0.3715834118755891\n",
      "DONE FOR KERNEL = rbf DEGREE = 3 NU = 0.7, SCORE = 0.34838709677419355\n",
      "DONE FOR KERNEL = rbf DEGREE = 4 NU = 0.3, SCORE = 0.4117306579201234\n",
      "DONE FOR KERNEL = rbf DEGREE = 4 NU = 0.4, SCORE = 0.4025044722719141\n",
      "DONE FOR KERNEL = rbf DEGREE = 4 NU = 0.5, SCORE = 0.3947564744751146\n",
      "DONE FOR KERNEL = rbf DEGREE = 4 NU = 0.6, SCORE = 0.3715834118755891\n",
      "DONE FOR KERNEL = rbf DEGREE = 4 NU = 0.7, SCORE = 0.34838709677419355\n",
      "DONE FOR KERNEL = rbf DEGREE = 5 NU = 0.3, SCORE = 0.4117306579201234\n",
      "DONE FOR KERNEL = rbf DEGREE = 5 NU = 0.4, SCORE = 0.4025044722719141\n",
      "DONE FOR KERNEL = rbf DEGREE = 5 NU = 0.5, SCORE = 0.3947564744751146\n",
      "DONE FOR KERNEL = rbf DEGREE = 5 NU = 0.6, SCORE = 0.3715834118755891\n",
      "DONE FOR KERNEL = rbf DEGREE = 5 NU = 0.7, SCORE = 0.34838709677419355\n",
      "DONE FOR KERNEL = rbf DEGREE = 6 NU = 0.3, SCORE = 0.4117306579201234\n",
      "DONE FOR KERNEL = rbf DEGREE = 6 NU = 0.4, SCORE = 0.4025044722719141\n",
      "DONE FOR KERNEL = rbf DEGREE = 6 NU = 0.5, SCORE = 0.3947564744751146\n",
      "DONE FOR KERNEL = rbf DEGREE = 6 NU = 0.6, SCORE = 0.3715834118755891\n",
      "DONE FOR KERNEL = rbf DEGREE = 6 NU = 0.7, SCORE = 0.34838709677419355\n",
      "DONE FOR KERNEL = rbf DEGREE = 7 NU = 0.3, SCORE = 0.4117306579201234\n",
      "DONE FOR KERNEL = rbf DEGREE = 7 NU = 0.4, SCORE = 0.4025044722719141\n",
      "DONE FOR KERNEL = rbf DEGREE = 7 NU = 0.5, SCORE = 0.3947564744751146\n",
      "DONE FOR KERNEL = rbf DEGREE = 7 NU = 0.6, SCORE = 0.3715834118755891\n",
      "DONE FOR KERNEL = rbf DEGREE = 7 NU = 0.7, SCORE = 0.34838709677419355\n",
      "DONE FOR KERNEL = rbf DEGREE = 8 NU = 0.3, SCORE = 0.4117306579201234\n",
      "DONE FOR KERNEL = rbf DEGREE = 8 NU = 0.4, SCORE = 0.4025044722719141\n",
      "DONE FOR KERNEL = rbf DEGREE = 8 NU = 0.5, SCORE = 0.3947564744751146\n",
      "DONE FOR KERNEL = rbf DEGREE = 8 NU = 0.6, SCORE = 0.3715834118755891\n",
      "DONE FOR KERNEL = rbf DEGREE = 8 NU = 0.7, SCORE = 0.34838709677419355\n",
      "DONE FOR KERNEL = rbf DEGREE = 9 NU = 0.3, SCORE = 0.4117306579201234\n",
      "DONE FOR KERNEL = rbf DEGREE = 9 NU = 0.4, SCORE = 0.4025044722719141\n",
      "DONE FOR KERNEL = rbf DEGREE = 9 NU = 0.5, SCORE = 0.3947564744751146\n",
      "DONE FOR KERNEL = rbf DEGREE = 9 NU = 0.6, SCORE = 0.3715834118755891\n",
      "DONE FOR KERNEL = rbf DEGREE = 9 NU = 0.7, SCORE = 0.34838709677419355\n",
      "DONE FOR KERNEL = poly DEGREE = 1 NU = 0.3, SCORE = 0.46251935513252573\n",
      "DONE FOR KERNEL = poly DEGREE = 1 NU = 0.4, SCORE = 0.4477728068469169\n",
      "DONE FOR KERNEL = poly DEGREE = 1 NU = 0.5, SCORE = 0.43463165889117933\n",
      "DONE FOR KERNEL = poly DEGREE = 1 NU = 0.6, SCORE = 0.4203130777764082\n",
      "DONE FOR KERNEL = poly DEGREE = 1 NU = 0.7, SCORE = 0.3971367215461704\n",
      "DONE FOR KERNEL = poly DEGREE = 2 NU = 0.3, SCORE = 0.43606970396808736\n",
      "DONE FOR KERNEL = poly DEGREE = 2 NU = 0.4, SCORE = 0.4301830566198382\n",
      "DONE FOR KERNEL = poly DEGREE = 2 NU = 0.5, SCORE = 0.41379310344827586\n",
      "DONE FOR KERNEL = poly DEGREE = 2 NU = 0.6, SCORE = 0.3899179366940211\n",
      "DONE FOR KERNEL = poly DEGREE = 2 NU = 0.7, SCORE = 0.35347837765243084\n",
      "DONE FOR KERNEL = poly DEGREE = 3 NU = 0.3, SCORE = 0.41123742894621773\n",
      "DONE FOR KERNEL = poly DEGREE = 3 NU = 0.4, SCORE = 0.41686027215399934\n",
      "DONE FOR KERNEL = poly DEGREE = 3 NU = 0.5, SCORE = 0.40495959260489317\n",
      "DONE FOR KERNEL = poly DEGREE = 3 NU = 0.6, SCORE = 0.38528336380255945\n",
      "DONE FOR KERNEL = poly DEGREE = 3 NU = 0.7, SCORE = 0.33329236819466634\n",
      "DONE FOR KERNEL = poly DEGREE = 4 NU = 0.3, SCORE = 0.3937950138504156\n",
      "DONE FOR KERNEL = poly DEGREE = 4 NU = 0.4, SCORE = 0.39213954515345545\n",
      "DONE FOR KERNEL = poly DEGREE = 4 NU = 0.5, SCORE = 0.3929625177576221\n",
      "DONE FOR KERNEL = poly DEGREE = 4 NU = 0.6, SCORE = 0.3824061510628675\n",
      "DONE FOR KERNEL = poly DEGREE = 4 NU = 0.7, SCORE = 0.32905429278059123\n",
      "DONE FOR KERNEL = poly DEGREE = 5 NU = 0.3, SCORE = 0.3928531295651197\n",
      "DONE FOR KERNEL = poly DEGREE = 5 NU = 0.4, SCORE = 0.39171974522292996\n",
      "DONE FOR KERNEL = poly DEGREE = 5 NU = 0.5, SCORE = 0.3889627659574468\n",
      "DONE FOR KERNEL = poly DEGREE = 5 NU = 0.6, SCORE = 0.3926366595577506\n",
      "DONE FOR KERNEL = poly DEGREE = 5 NU = 0.7, SCORE = 0.33001289112855975\n",
      "DONE FOR KERNEL = poly DEGREE = 6 NU = 0.3, SCORE = 0.3805713015449594\n",
      "DONE FOR KERNEL = poly DEGREE = 6 NU = 0.4, SCORE = 0.37030289227966295\n",
      "DONE FOR KERNEL = poly DEGREE = 6 NU = 0.5, SCORE = 0.37958999774724034\n",
      "DONE FOR KERNEL = poly DEGREE = 6 NU = 0.6, SCORE = 0.38591359135913594\n",
      "DONE FOR KERNEL = poly DEGREE = 6 NU = 0.7, SCORE = 0.35179003108092555\n",
      "DONE FOR KERNEL = poly DEGREE = 7 NU = 0.3, SCORE = 0.3724986025712688\n",
      "DONE FOR KERNEL = poly DEGREE = 7 NU = 0.4, SCORE = 0.3861318830727396\n",
      "DONE FOR KERNEL = poly DEGREE = 7 NU = 0.5, SCORE = 0.3817455790074159\n",
      "DONE FOR KERNEL = poly DEGREE = 7 NU = 0.6, SCORE = 0.3651238372744593\n",
      "DONE FOR KERNEL = poly DEGREE = 7 NU = 0.7, SCORE = 0.3545744196631771\n",
      "DONE FOR KERNEL = poly DEGREE = 8 NU = 0.3, SCORE = 0.3790523690773067\n",
      "DONE FOR KERNEL = poly DEGREE = 8 NU = 0.4, SCORE = 0.3708428246013668\n",
      "DONE FOR KERNEL = poly DEGREE = 8 NU = 0.5, SCORE = 0.38417692658458724\n",
      "DONE FOR KERNEL = poly DEGREE = 8 NU = 0.6, SCORE = 0.3769187675070028\n",
      "DONE FOR KERNEL = poly DEGREE = 8 NU = 0.7, SCORE = 0.3570935847321223\n",
      "DONE FOR KERNEL = poly DEGREE = 9 NU = 0.3, SCORE = 0.38058074142086534\n",
      "DONE FOR KERNEL = poly DEGREE = 9 NU = 0.4, SCORE = 0.3818534138835062\n",
      "DONE FOR KERNEL = poly DEGREE = 9 NU = 0.5, SCORE = 0.38114800867282894\n",
      "DONE FOR KERNEL = poly DEGREE = 9 NU = 0.6, SCORE = 0.37702302256667425\n",
      "DONE FOR KERNEL = poly DEGREE = 9 NU = 0.7, SCORE = 0.3690381331815595\n",
      "DONE FOR KERNEL = linear DEGREE = 1 NU = 0.3, SCORE = 0.4644619038918327\n",
      "DONE FOR KERNEL = linear DEGREE = 1 NU = 0.4, SCORE = 0.44494163424124517\n",
      "DONE FOR KERNEL = linear DEGREE = 1 NU = 0.5, SCORE = 0.4393151278716949\n",
      "DONE FOR KERNEL = linear DEGREE = 1 NU = 0.6, SCORE = 0.42106570612346295\n",
      "DONE FOR KERNEL = linear DEGREE = 1 NU = 0.7, SCORE = 0.3927648578811369\n",
      "DONE FOR KERNEL = linear DEGREE = 2 NU = 0.3, SCORE = 0.4644619038918327\n",
      "DONE FOR KERNEL = linear DEGREE = 2 NU = 0.4, SCORE = 0.44494163424124517\n",
      "DONE FOR KERNEL = linear DEGREE = 2 NU = 0.5, SCORE = 0.4393151278716949\n",
      "DONE FOR KERNEL = linear DEGREE = 2 NU = 0.6, SCORE = 0.42106570612346295\n",
      "DONE FOR KERNEL = linear DEGREE = 2 NU = 0.7, SCORE = 0.3927648578811369\n",
      "DONE FOR KERNEL = linear DEGREE = 3 NU = 0.3, SCORE = 0.4644619038918327\n",
      "DONE FOR KERNEL = linear DEGREE = 3 NU = 0.4, SCORE = 0.44494163424124517\n",
      "DONE FOR KERNEL = linear DEGREE = 3 NU = 0.5, SCORE = 0.4393151278716949\n",
      "DONE FOR KERNEL = linear DEGREE = 3 NU = 0.6, SCORE = 0.42106570612346295\n",
      "DONE FOR KERNEL = linear DEGREE = 3 NU = 0.7, SCORE = 0.3927648578811369\n",
      "DONE FOR KERNEL = linear DEGREE = 4 NU = 0.3, SCORE = 0.4644619038918327\n",
      "DONE FOR KERNEL = linear DEGREE = 4 NU = 0.4, SCORE = 0.44494163424124517\n",
      "DONE FOR KERNEL = linear DEGREE = 4 NU = 0.5, SCORE = 0.4393151278716949\n",
      "DONE FOR KERNEL = linear DEGREE = 4 NU = 0.6, SCORE = 0.42106570612346295\n",
      "DONE FOR KERNEL = linear DEGREE = 4 NU = 0.7, SCORE = 0.3927648578811369\n",
      "DONE FOR KERNEL = linear DEGREE = 5 NU = 0.3, SCORE = 0.4644619038918327\n",
      "DONE FOR KERNEL = linear DEGREE = 5 NU = 0.4, SCORE = 0.44494163424124517\n",
      "DONE FOR KERNEL = linear DEGREE = 5 NU = 0.5, SCORE = 0.4393151278716949\n",
      "DONE FOR KERNEL = linear DEGREE = 5 NU = 0.6, SCORE = 0.42106570612346295\n",
      "DONE FOR KERNEL = linear DEGREE = 5 NU = 0.7, SCORE = 0.3927648578811369\n"
     ]
    },
    {
     "name": "stdout",
     "output_type": "stream",
     "text": [
      "DONE FOR KERNEL = linear DEGREE = 6 NU = 0.3, SCORE = 0.4644619038918327\n",
      "DONE FOR KERNEL = linear DEGREE = 6 NU = 0.4, SCORE = 0.44494163424124517\n",
      "DONE FOR KERNEL = linear DEGREE = 6 NU = 0.5, SCORE = 0.4393151278716949\n",
      "DONE FOR KERNEL = linear DEGREE = 6 NU = 0.6, SCORE = 0.42106570612346295\n",
      "DONE FOR KERNEL = linear DEGREE = 6 NU = 0.7, SCORE = 0.3927648578811369\n",
      "DONE FOR KERNEL = linear DEGREE = 7 NU = 0.3, SCORE = 0.4644619038918327\n",
      "DONE FOR KERNEL = linear DEGREE = 7 NU = 0.4, SCORE = 0.44494163424124517\n",
      "DONE FOR KERNEL = linear DEGREE = 7 NU = 0.5, SCORE = 0.4393151278716949\n",
      "DONE FOR KERNEL = linear DEGREE = 7 NU = 0.6, SCORE = 0.42106570612346295\n",
      "DONE FOR KERNEL = linear DEGREE = 7 NU = 0.7, SCORE = 0.3927648578811369\n",
      "DONE FOR KERNEL = linear DEGREE = 8 NU = 0.3, SCORE = 0.4644619038918327\n",
      "DONE FOR KERNEL = linear DEGREE = 8 NU = 0.4, SCORE = 0.44494163424124517\n",
      "DONE FOR KERNEL = linear DEGREE = 8 NU = 0.5, SCORE = 0.4393151278716949\n",
      "DONE FOR KERNEL = linear DEGREE = 8 NU = 0.6, SCORE = 0.42106570612346295\n",
      "DONE FOR KERNEL = linear DEGREE = 8 NU = 0.7, SCORE = 0.3927648578811369\n",
      "DONE FOR KERNEL = linear DEGREE = 9 NU = 0.3, SCORE = 0.4644619038918327\n",
      "DONE FOR KERNEL = linear DEGREE = 9 NU = 0.4, SCORE = 0.44494163424124517\n",
      "DONE FOR KERNEL = linear DEGREE = 9 NU = 0.5, SCORE = 0.4393151278716949\n",
      "DONE FOR KERNEL = linear DEGREE = 9 NU = 0.6, SCORE = 0.42106570612346295\n",
      "DONE FOR KERNEL = linear DEGREE = 9 NU = 0.7, SCORE = 0.3927648578811369\n",
      "DONE FOR KERNEL = sigmoid DEGREE = 1 NU = 0.3, SCORE = 0.45557122708039494\n",
      "DONE FOR KERNEL = sigmoid DEGREE = 1 NU = 0.4, SCORE = 0.44725818735719725\n",
      "DONE FOR KERNEL = sigmoid DEGREE = 1 NU = 0.5, SCORE = 0.4412619791105847\n",
      "DONE FOR KERNEL = sigmoid DEGREE = 1 NU = 0.6, SCORE = 0.4302138706885894\n",
      "DONE FOR KERNEL = sigmoid DEGREE = 1 NU = 0.7, SCORE = 0.3934426229508196\n",
      "DONE FOR KERNEL = sigmoid DEGREE = 2 NU = 0.3, SCORE = 0.45557122708039494\n",
      "DONE FOR KERNEL = sigmoid DEGREE = 2 NU = 0.4, SCORE = 0.44725818735719725\n",
      "DONE FOR KERNEL = sigmoid DEGREE = 2 NU = 0.5, SCORE = 0.4412619791105847\n",
      "DONE FOR KERNEL = sigmoid DEGREE = 2 NU = 0.6, SCORE = 0.4302138706885894\n",
      "DONE FOR KERNEL = sigmoid DEGREE = 2 NU = 0.7, SCORE = 0.3934426229508196\n",
      "DONE FOR KERNEL = sigmoid DEGREE = 3 NU = 0.3, SCORE = 0.45557122708039494\n",
      "DONE FOR KERNEL = sigmoid DEGREE = 3 NU = 0.4, SCORE = 0.44725818735719725\n",
      "DONE FOR KERNEL = sigmoid DEGREE = 3 NU = 0.5, SCORE = 0.4412619791105847\n",
      "DONE FOR KERNEL = sigmoid DEGREE = 3 NU = 0.6, SCORE = 0.4302138706885894\n",
      "DONE FOR KERNEL = sigmoid DEGREE = 3 NU = 0.7, SCORE = 0.3934426229508196\n",
      "DONE FOR KERNEL = sigmoid DEGREE = 4 NU = 0.3, SCORE = 0.45557122708039494\n",
      "DONE FOR KERNEL = sigmoid DEGREE = 4 NU = 0.4, SCORE = 0.44725818735719725\n",
      "DONE FOR KERNEL = sigmoid DEGREE = 4 NU = 0.5, SCORE = 0.4412619791105847\n",
      "DONE FOR KERNEL = sigmoid DEGREE = 4 NU = 0.6, SCORE = 0.4302138706885894\n",
      "DONE FOR KERNEL = sigmoid DEGREE = 4 NU = 0.7, SCORE = 0.3934426229508196\n",
      "DONE FOR KERNEL = sigmoid DEGREE = 5 NU = 0.3, SCORE = 0.45557122708039494\n",
      "DONE FOR KERNEL = sigmoid DEGREE = 5 NU = 0.4, SCORE = 0.44725818735719725\n",
      "DONE FOR KERNEL = sigmoid DEGREE = 5 NU = 0.5, SCORE = 0.4412619791105847\n",
      "DONE FOR KERNEL = sigmoid DEGREE = 5 NU = 0.6, SCORE = 0.4302138706885894\n",
      "DONE FOR KERNEL = sigmoid DEGREE = 5 NU = 0.7, SCORE = 0.3934426229508196\n",
      "DONE FOR KERNEL = sigmoid DEGREE = 6 NU = 0.3, SCORE = 0.45557122708039494\n",
      "DONE FOR KERNEL = sigmoid DEGREE = 6 NU = 0.4, SCORE = 0.44725818735719725\n",
      "DONE FOR KERNEL = sigmoid DEGREE = 6 NU = 0.5, SCORE = 0.4412619791105847\n",
      "DONE FOR KERNEL = sigmoid DEGREE = 6 NU = 0.6, SCORE = 0.4302138706885894\n",
      "DONE FOR KERNEL = sigmoid DEGREE = 6 NU = 0.7, SCORE = 0.3934426229508196\n",
      "DONE FOR KERNEL = sigmoid DEGREE = 7 NU = 0.3, SCORE = 0.45557122708039494\n",
      "DONE FOR KERNEL = sigmoid DEGREE = 7 NU = 0.4, SCORE = 0.44725818735719725\n",
      "DONE FOR KERNEL = sigmoid DEGREE = 7 NU = 0.5, SCORE = 0.4412619791105847\n",
      "DONE FOR KERNEL = sigmoid DEGREE = 7 NU = 0.6, SCORE = 0.4302138706885894\n",
      "DONE FOR KERNEL = sigmoid DEGREE = 7 NU = 0.7, SCORE = 0.3934426229508196\n",
      "DONE FOR KERNEL = sigmoid DEGREE = 8 NU = 0.3, SCORE = 0.45557122708039494\n",
      "DONE FOR KERNEL = sigmoid DEGREE = 8 NU = 0.4, SCORE = 0.44725818735719725\n",
      "DONE FOR KERNEL = sigmoid DEGREE = 8 NU = 0.5, SCORE = 0.4412619791105847\n",
      "DONE FOR KERNEL = sigmoid DEGREE = 8 NU = 0.6, SCORE = 0.4302138706885894\n",
      "DONE FOR KERNEL = sigmoid DEGREE = 8 NU = 0.7, SCORE = 0.3934426229508196\n",
      "DONE FOR KERNEL = sigmoid DEGREE = 9 NU = 0.3, SCORE = 0.45557122708039494\n",
      "DONE FOR KERNEL = sigmoid DEGREE = 9 NU = 0.4, SCORE = 0.44725818735719725\n",
      "DONE FOR KERNEL = sigmoid DEGREE = 9 NU = 0.5, SCORE = 0.4412619791105847\n",
      "DONE FOR KERNEL = sigmoid DEGREE = 9 NU = 0.6, SCORE = 0.4302138706885894\n",
      "DONE FOR KERNEL = sigmoid DEGREE = 9 NU = 0.7, SCORE = 0.3934426229508196\n"
     ]
    }
   ],
   "source": [
    "scores =[]\n",
    "preds = []\n",
    "for k in ['rbf', 'poly', 'linear', 'sigmoid']:\n",
    "    for degree in range(1, 10):\n",
    "        for nu in [0.3, 0.4, 0.5, 0.6, 0.7]:\n",
    "            y_pred = []\n",
    "            magic_forest = svm.OneClassSVM(kernel=k, degree=degree, gamma='scale', nu=nu)\n",
    "            for m in matrix_train:\n",
    "                y = magic_forest.fit_predict(m)\n",
    "                for i in range(y.size):\n",
    "                    if y[i] == -1:\n",
    "                        y[i] = 0\n",
    "                y =list(y)\n",
    "                y_pred += y\n",
    "            score = f1_score(y_pred, all_targ)\n",
    "            scores.append(score)\n",
    "            preds.append(y_pred)\n",
    "            print('DONE FOR KERNEL = {} DEGREE = {} NU = {}, SCORE = {}'.format(k, degree, nu, score))"
   ]
  },
  {
   "cell_type": "code",
   "execution_count": 30,
   "metadata": {},
   "outputs": [
    {
     "name": "stdout",
     "output_type": "stream",
     "text": [
      "0.4644619038918327\n"
     ]
    }
   ],
   "source": [
    "y_pred = preds[np.argmax(scores)]\n",
    "print(np.max(scores))\n",
    "u,c = np.unique(y_pred, return_counts=True)"
   ]
  },
  {
   "cell_type": "code",
   "execution_count": 31,
   "metadata": {},
   "outputs": [
    {
     "data": {
      "text/plain": [
       "(array([4105, 7585]), array([0, 1]))"
      ]
     },
     "execution_count": 31,
     "metadata": {},
     "output_type": "execute_result"
    }
   ],
   "source": [
    "c, u"
   ]
  },
  {
   "cell_type": "code",
   "execution_count": null,
   "metadata": {},
   "outputs": [],
   "source": []
  }
 ],
 "metadata": {
  "kernelspec": {
   "display_name": "Python 3",
   "language": "python",
   "name": "python3"
  },
  "language_info": {
   "codemirror_mode": {
    "name": "ipython",
    "version": 3
   },
   "file_extension": ".py",
   "mimetype": "text/x-python",
   "name": "python",
   "nbconvert_exporter": "python",
   "pygments_lexer": "ipython3",
   "version": "3.6.8"
  }
 },
 "nbformat": 4,
 "nbformat_minor": 2
}
