{
 "cells": [
  {
   "cell_type": "markdown",
   "metadata": {},
   "source": [
    "# Алгоритмы интеллектуальной обработки больших объемов данных\n",
    "## Домашнее задание №4 - Алгоритмы кластеризации\n"
   ]
  },
  {
   "cell_type": "markdown",
   "metadata": {},
   "source": [
    "###### <hr\\>\n",
    "**Общая информация**\n",
    "\n",
    "**Срок сдачи:** 10 декабря 2019, 06:00 <br\\>\n",
    "**Штраф за опоздание:** -2 балла после 06:00 10 декабря, -4 балла после 06:00 17 декабря, -6 баллов после 06:00 24 декабря -8 баллов  после 06:00 31 декабря\n",
    "\n",
    "При отправлении ДЗ указывайте фамилию в названии файла Присылать ДЗ необходимо в виде ссылки на свой github репозиторий на почту ml1.sphere@mail.ru с указанием темы в следующем формате:\n",
    "[ML0919, Задание 4] Фамилия Имя\n",
    "\n",
    "Используйте данный Ipython Notebook при оформлении домашнего задания.\n",
    "<hr\\>"
   ]
  },
  {
   "cell_type": "markdown",
   "metadata": {},
   "source": [
    "**Из чего состоит задание:**\n",
    "\n",
    "###### Теоретические вопросы (2 балла)\n",
    "\n",
    "###### Реализация алгоритма кластеризации (5 баллов)\n",
    "\n",
    "###### Боевое применение (3 балла)\n",
    "\n",
    "\n"
   ]
  },
  {
   "cell_type": "markdown",
   "metadata": {},
   "source": [
    "**Штрафные баллы:**\n",
    "\n",
    "1. Невыполнение PEP8 -1 балл\n",
    "2. Отсутствие фамилии в имени скрипта (скрипт должен называться по аналогии со stroykova_hw4.ipynb) -1 балл\n",
    "3. Все строчки должны быть выполнены. Нужно, чтобы output команды можно было увидеть уже в git'е. В противном случае -1 балл\n",
    "4. При оформлении ДЗ нужно пользоваться данным файлом в качестве шаблона. Не нужно удалять и видоизменять написанный код и текст. В противном случае -1 балл"
   ]
  },
  {
   "cell_type": "code",
   "execution_count": 1,
   "metadata": {},
   "outputs": [
    {
     "name": "stdout",
     "output_type": "stream",
     "text": [
      "Populating the interactive namespace from numpy and matplotlib\n"
     ]
    }
   ],
   "source": [
    "import time\n",
    "import pandas as pd\n",
    "import pylab as pl\n",
    "import numpy as np\n",
    "import scipy.spatial as ss\n",
    "import sklearn.cluster as sc\n",
    "import sklearn.manifold as sm\n",
    "import sklearn.datasets as ds\n",
    "import sklearn.metrics as smt\n",
    "from sklearn.mixture import GaussianMixture\n",
    "from sklearn.cluster import AgglomerativeClustering\n",
    "\n",
    "import matplotlib.pyplot as plt\n",
    "\n",
    "%matplotlib inline\n",
    "\n",
    "plt.style.use('ggplot')\n",
    "plt.rcParams['figure.figsize'] = (12,5)\n",
    "\n",
    "# Plotting config\n",
    "%pylab inline"
   ]
  },
  {
   "cell_type": "markdown",
   "metadata": {},
   "source": [
    "# Теоретическое введение\n"
   ]
  },
  {
   "cell_type": "markdown",
   "metadata": {},
   "source": [
    "Основная задача кластерного анализа — разбиение исходного набора объектов на группы (кластеры) таким образом, чтобы объекты в группе были похожи друг на друга, а объекты из разных групп - отличались. \n",
    "\n",
    "В этой работе мы будем реализовывать агломеративную кластеризацию. "
   ]
  },
  {
   "cell_type": "markdown",
   "metadata": {
    "collapsed": true
   },
   "source": [
    "## Агломеративная кластеризация"
   ]
  },
  {
   "cell_type": "markdown",
   "metadata": {},
   "source": [
    "Иерархические алгоритмы кластеризации строят на выборке систему вложенных разбиений.  Наиболее часто испоьзуемые иерархические алгоритмы - агломеративные алгоритмы, которые строят ирархию по восходящей, то есть от момента, когда все элементы являются отдельными кластерами, до того момента, пока вся выборка не станет одним кластером."
   ]
  },
  {
   "cell_type": "markdown",
   "metadata": {},
   "source": [
    "Сам алгоритм описать можно примерно так:\n",
    "\n",
    "* начинаем с ситуации, когда каждый объект - отдельный кластер\n",
    "* на каждом шаге совмещаем два наиболее близких кластера\n",
    "* останавливаемся, когда получаем требуемое количество или единственный кластер"
   ]
  },
  {
   "cell_type": "markdown",
   "metadata": {},
   "source": [
    "\n",
    "В данной работе Вам предлагается реализовать три варианта расстояний между кластерами, по которым Вы определяете пару для слияния: \n",
    "* Single linkage\n",
    "$$ d_{min}(C_i, C_j) = \\min_{\\mathbf{x} \\in C_i, \\mathbf{x}' \\in C_j} \\|\\mathbf{x} -\\mathbf{x}' \\| $$\n",
    "\n",
    "* Complete linkage\n",
    "$$ d_{max}(C_i, C_j) = \\max_{\\mathbf{x} \\in C_i, \\mathbf{x}' \\in C_j} \\|\\mathbf{x} -\\mathbf{x}' \\| $$\n",
    "\n",
    "* Average linkage\n",
    "$$ d_{avg}(C_i, C_j) = \\frac{1}{n_i n_j}\\sum_{\\mathbf{x} \\in C_i}\\sum_{\\mathbf{x}' \\in C_j} \\|\\mathbf{x} -\\mathbf{x}' \\| $$\n",
    "\n",
    "Как считать расстояние $\\|\\mathbf{x} -\\mathbf{x}' \\|$ между объектами Вы должны выбрать сами.  Вы должны четко понимать, что выбор расстояния между объектами - самое важное в такого рода алгоритмах. Передавайте название расстояния в конструктор класса, а потом, в зависимости от названия, применяете ту или иную функцию для подсчета расстояния. \n",
    "\n"
   ]
  },
  {
   "cell_type": "markdown",
   "metadata": {},
   "source": [
    "Для того, чтобы на втором этапе нам не пересчитывать заново расстояния между всеми парами кластеров, можно использовать Формулы Ланса-Вильямса, которые позволяют посчитать расстояние между кластерами после объединения, используя только расстояния между кластерами до объедения.  Таким образом, достаточно будет посчитать расстояния только между всеми одноэлементными кластерами (первый этап), а затем пересчитывать расстояния при их объединении через \n",
    "формулы Ланса-Вильямса. \n",
    "\n",
    "Общая  формула выглядит так:\n",
    "$$ d(C_i \\cup C_j, C_k) = a_i \\cdot d(C_i, C_k) + a_j \\cdot d(C_j, C_k) + b \\cdot d(C_i, C_j) + c \\cdot |d(C_i, C_k) - d(C_j, C_k)|$$\n",
    "\n",
    "Можно показать, что все относительно разумные кластерные расстояния можно описать данной формулой. \n",
    "\n",
    "Для интересущих нас linkage:\n",
    "\n",
    "* single-linkage       $a_i = \\frac{1}{2}, a_j =  \\frac{1}{2}, b = 0, c =  - \\frac{1}{2} $\n",
    "\n",
    "* complete-linkage     $a_i = \\frac{1}{2}, a_j =  \\frac{1}{2}, b = 0, c =   \\frac{1}{2} $\n",
    "\n",
    "* average-linkage       $a_i = \\frac{|C_i|}{|C_i \\cup C_j|}, a_j =  \\frac{|C_j|}{|C_i \\cup C_j|}, b = 0, c = 0 $\n",
    "\n"
   ]
  },
  {
   "cell_type": "markdown",
   "metadata": {},
   "source": [
    "# Теоретические вопросы (2 балла)\n",
    "В этой части Вам будут предложены теоретичские вопросы и задачи по теме. Вы, конечно, можете списать их у своего товарища или найти решение в интернете, но учтите, что они обязательно войдут в теоретический коллоквиум. Лучше разобраться в теме сейчас и успешно ответить на коллоквиуме, чем списать, не разобравшись в материале, и быть терзаемым совестью. \n",
    "\n",
    "\n",
    "Формулы надо оформлять в формате **LaTeX**."
   ]
  },
  {
   "cell_type": "markdown",
   "metadata": {},
   "source": [
    "Задача 1. Сходимость kmeans.\n",
    "\n",
    "Докажите, что kmeans всегда сходится, и итераций не будет превышать $k^N$, где $k$ $-$ число кластеров, $N$ $-$ число объектов\n",
    "\n",
    "Подсказка: Вам стоит рассмотреть функционал, который минимизирует алгоритм, и подумать, как он изменяется на E шаге и на M шаге.\n",
    "\n"
   ]
  },
  {
   "cell_type": "markdown",
   "metadata": {},
   "source": [
    "Функционал качества"
   ]
  },
  {
   "cell_type": "markdown",
   "metadata": {},
   "source": [
    "$$Q = \\sum_{n}^{N} r_{n, k} ||x_n - \\mu_n||^{2} $$"
   ]
  },
  {
   "cell_type": "markdown",
   "metadata": {},
   "source": [
    "где $\\mu_n$ - центр кластера, к которому принадлежит $x_n$ "
   ]
  },
  {
   "cell_type": "markdown",
   "metadata": {},
   "source": [
    "На E-шаге функционал не возрастает, на M-шаге, очевидно, тоже. Так как последовательность функционалов ограничена снизу хотя бы нулём, она сходится."
   ]
  },
  {
   "cell_type": "markdown",
   "metadata": {},
   "source": [
    "При этом, если на E-шаге в какой-то момент функционал не уменьшился (разбиение не поменялось), то все последующие функционалы равны ему и мы говорим, что алгоритм сошелся."
   ]
  },
  {
   "cell_type": "markdown",
   "metadata": {},
   "source": [
    "Всего разбиений $k^{N}$, какое-то из них минимизирует функционал. Следовательно, минимум функционала мы найдем менее чем за $k^{N}$ шагов."
   ]
  },
  {
   "cell_type": "markdown",
   "metadata": {},
   "source": [
    "Задача 2.  ММП для многомерного нормального распределения.\n",
    "\n",
    "Функция правдоподобия в общем случае записывается как:\n",
    "￼\n",
    "￼$$ L(\\theta) = p(X | \\theta ) = \\prod_{i=1}^N p(x_i | \\theta)$$\n",
    "\n",
    "Для многомерного нормального распределения плотность вероятности:\n",
    "$$p(x_i| \\theta) = \\frac{1}{(2\\pi)^{n/2}|\\Sigma|^{1/2}}e^{-\\frac{1}{2} (x_i - \\mu)^T\\Sigma^{-1}(x_i - \\mu)}$$\n",
    "\n",
    "Выведите ММП оценку для вектора $\\mu$\n",
    "￼"
   ]
  },
  {
   "cell_type": "markdown",
   "metadata": {},
   "source": [
    "Перейдём к логарифмам:"
   ]
  },
  {
   "cell_type": "markdown",
   "metadata": {},
   "source": [
    "$$L1(\\theta) = \\sum_{i = 1}^{n} \\ln(\\frac{1}{(2\\pi)^{n/2}|\\Sigma|^{1/2}}e^{-\\frac{1}{2} (x_i - \\mu)^T\\Sigma^{-1}(x_i - \\mu)}) $$"
   ]
  },
  {
   "cell_type": "markdown",
   "metadata": {},
   "source": [
    "$$ L1(\\theta) = -\\frac{1}{2} \\ln(\\frac{1}{(2\\pi)^{n/2}|\\Sigma|^{1/2}}) \\sum_{i = 1}^{n}(x_i - \\mu)^T\\Sigma^{-1}(x_i - \\mu)$$"
   ]
  },
  {
   "cell_type": "markdown",
   "metadata": {},
   "source": [
    "Так как нас интересует оценка для $\\mu$, дифференцируем по $\\mu$"
   ]
  },
  {
   "cell_type": "markdown",
   "metadata": {},
   "source": [
    "$$L1'_{\\mu}(\\theta) = \\frac{1}{2} \\ln(\\frac{1}{(2\\pi)^{n/2}|\\Sigma|^{1/2}}) * (\\Sigma^{-1} + (\\Sigma^{-1})^{T}) \\sum_{i = 1}^{n} (x_i - \\mu)$$"
   ]
  },
  {
   "cell_type": "markdown",
   "metadata": {},
   "source": [
    "$$L1'_{\\mu}(\\theta) = 0 \\iff \\mu = \\frac{1}{n}\\sum_{i=1}^{n} x_i $$"
   ]
  },
  {
   "cell_type": "markdown",
   "metadata": {},
   "source": [
    "Следовательно, функция правдоподобия максимизируется, когда $\\mu = \\frac{1}{n}\\sum_{i=1}^{n} x_i $"
   ]
  },
  {
   "cell_type": "markdown",
   "metadata": {},
   "source": [
    "Задача 3. Формулы Ланса-Вильямса.\n",
    "\n",
    "Формулы Ланса-Вильямса крайне удобны для быстрого пересчта расстояний в агломеративной кластеризации. Давайте докажем  формулы для single и complete linkage. \n",
    "\n",
    "Докажите, что:\n",
    "\n",
    "$d_{\\min}(U \\cup V, S) = \\frac{1}{2} d_{\\min}(U, S) + \\frac{1}{2} d_{\\min}(V, S)  - \\frac{1}{2} | d_{\\min}(U, S) - d_{\\min}(V, S) |  $\n",
    "\n",
    "\n",
    "$d_{\\max}(U \\cup V, S) = \\frac{1}{2} d_{\\max}(U, S) + \\frac{1}{2} d_{\\max}(V, S)  + \\frac{1}{2} | d_{\\max}(U, S) - d_{\\max}(V, S) |  $\n",
    "\n",
    "\n"
   ]
  },
  {
   "cell_type": "markdown",
   "metadata": {},
   "source": [
    "Возможно два случая:"
   ]
  },
  {
   "cell_type": "markdown",
   "metadata": {},
   "source": [
    "$d_{\\min}(U \\cup V, S) = d_{\\min}(U, S) $ или $d_{\\min}(U \\cup V, S) = d_{\\min}(V, S) $"
   ]
  },
  {
   "cell_type": "markdown",
   "metadata": {},
   "source": [
    "Следовательно:"
   ]
  },
  {
   "cell_type": "markdown",
   "metadata": {},
   "source": [
    "$d_{\\min}(U, S) \\leq d_{\\min}(V, S)$ или $d_{\\min}(U, S) > d_{\\min}(V, S)$ соответственно"
   ]
  },
  {
   "cell_type": "markdown",
   "metadata": {},
   "source": [
    "Раскроем модуль и получим нужное нам выражение"
   ]
  },
  {
   "cell_type": "markdown",
   "metadata": {},
   "source": [
    "Аналогично для $max$"
   ]
  },
  {
   "cell_type": "markdown",
   "metadata": {},
   "source": [
    "# Реализация алгоритма кластеризации  (5 баллов)"
   ]
  },
  {
   "cell_type": "markdown",
   "metadata": {},
   "source": [
    "Алгоритм кластеризации должен удовлетворять следующему интерфейсу. Конструктор принимает набор параметров, необходимых для работы алгоритма кластеризации. Метод `fit` подсчитывает параметры модели и возвращает `self`. Метод `predict` возвращает вектор с индексами кластеров для поданных в него объектов `x`. "
   ]
  },
  {
   "cell_type": "code",
   "execution_count": 2,
   "metadata": {},
   "outputs": [],
   "source": [
    "from sklearn.base import BaseEstimator, ClusterMixin\n",
    "from scipy.spatial.distance import pdist, squareform\n",
    "from scipy.cluster.hierarchy import dendrogram, linkage\n",
    "\n",
    "class Clustering(BaseEstimator, ClusterMixin):\n",
    "    \"\"\"\n",
    "    Agglomerative clustering algorythm \n",
    "    \"\"\"\n",
    "    \n",
    "    def __init__(self, n_clusters, linkage='average', metric='euclidean'):\n",
    "        self.linkage = linkage\n",
    "        self.n_clusters = n_clusters\n",
    "        self.metric = metric\n",
    "        if linkage == 'simple':\n",
    "            self.linkage_func = self.simple_linkage\n",
    "        elif linkage == 'complete':\n",
    "            self.linkage_func = self.complete_linkage\n",
    "        elif linkage == 'average':\n",
    "            self.linkage_func = self.average_linkage\n",
    "        else:\n",
    "            print('incorrect name of linkage')\n",
    "            raise KeyError(linkage)\n",
    "    \n",
    "    def simple_linkage(self, i_row, j_row, i_c, j_c):\n",
    "        return 0.5 * i_row + 0.5 * j_row - 0.5 * np.absolute(i_row - j_row)\n",
    "    \n",
    "    def complete_linkage(self, i_row, j_row, i_c, j_c):\n",
    "        return 0.5 * i_row + 0.5 * j_row + 0.5 * np.absolute(i_row - j_row)\n",
    "    \n",
    "    def average_linkage(self, i_row, j_row, i_c, j_c):\n",
    "        return (i_c/(i_c + j_c)) * i_row + (j_c/(i_c + j_c)) * j_row\n",
    "        \n",
    "    def fit_predict(self, x):\n",
    "        self.x_len = len(x)\n",
    "        clusters_count = [1] * self.x_len\n",
    "        preds = np.array(range(self.x_len))\n",
    "        x = np.array(x)\n",
    "        cur_clusters = self.x_len\n",
    "        dist = pdist(x, self.metric)\n",
    "        self.dist = dist\n",
    "        dist = squareform(dist)\n",
    "        dist = np.array(dist)\n",
    "        np.fill_diagonal(dist, np.inf)\n",
    "        while (cur_clusters > self.n_clusters):\n",
    "            i, j = np.unravel_index(np.argmin(dist, axis=None), dist.shape)\n",
    "            i_c = clusters_count[i]\n",
    "            j_c = clusters_count[j]\n",
    "            i_row = dist[i]\n",
    "            i_row = np.delete(i_row, [i, j])\n",
    "            j_row = dist[j]\n",
    "            j_row = np.delete(j_row, [i, j])\n",
    "            dist = np.delete(dist, [i, j], 0)\n",
    "            dist = np.delete(dist, [i, j], 1)\n",
    "            cur_clusters -= 1\n",
    "            new_row = self.linkage_func(i_row, j_row, i_c, j_c)\n",
    "            dist = np.vstack((dist, new_row))\n",
    "            new_col = np.append(new_row, np.inf).reshape(-1, 1)\n",
    "            dist = np.hstack((dist, new_col))\n",
    "            clusters_count = np.delete(clusters_count, [i, j])\n",
    "            clusters_count = np.append(clusters_count, [i_c + j_c])\n",
    "            wheri = np.where(preds == i)\n",
    "            wherj = np.where(preds == j)\n",
    "            wher1 = np.where(((preds > i) & (preds < j)) | ((preds < i) & (preds > j)))\n",
    "            wher2 = np.where((preds > i) & (preds > j))\n",
    "            preds[wheri] = clusters_count.size - 1\n",
    "            preds[wherj] = clusters_count.size - 1\n",
    "            preds[wher1] -= 1\n",
    "            preds[wher2] -= 2\n",
    "        return preds\n",
    "    \n",
    "    def plot_dendrogram(self):\n",
    "        z = linkage(self.dist, self.linkage)\n",
    "        plt.figure(figsize=(25, 10))\n",
    "        dn = dendrogram(z)\n",
    "        plt.show()"
   ]
  },
  {
   "cell_type": "markdown",
   "metadata": {},
   "source": [
    "Сначала проверим реализованный алгоритм кластеризации на классическом наборе данных [Iris](http://www.wikiwand.com/en/Iris_flower_data_set). Загрузим данные (они включены в библиотеку sklearn) и посмотрим на то, как они выглядят в двух проекциях (для простоты используем 2 класса из 3)."
   ]
  },
  {
   "cell_type": "code",
   "execution_count": 3,
   "metadata": {},
   "outputs": [
    {
     "data": {
      "image/png": "[encoded data removed]",
      "text/plain": [
       "<Figure size 720x360 with 2 Axes>"
      ]
     },
     "metadata": {
      "needs_background": "light"
     },
     "output_type": "display_data"
    }
   ],
   "source": [
    "iris = ds.load_iris()\n",
    "x_iris = iris.data[:100]\n",
    "y_iris = iris.target[:100]\n",
    "\n",
    "pl.figure(figsize=(10, 5))\n",
    "\n",
    "pl.subplot(1, 2, 1)\n",
    "pl.scatter(x_iris[:, 0], x_iris[:, 1], c=y_iris, cmap=pl.cm.PuOr, lw=0, s=30)\n",
    "plt.xlabel('Sepal length')\n",
    "plt.ylabel('Sepal width')\n",
    "\n",
    "pl.subplot(1, 2, 2)\n",
    "pl.scatter(x_iris[:, 2], x_iris[:, 3], c=y_iris, cmap=pl.cm.PuOr, lw=0, s=30)\n",
    "plt.xlabel('Petal length')\n",
    "plt.ylabel('Petal width')\n",
    "pl.show()"
   ]
  },
  {
   "cell_type": "markdown",
   "metadata": {},
   "source": [
    "Видно, что классы разделяются, поэтому можно надеяться, что наш алгоритм \"найдет\" кластеры, соответствующие исходным классам. Результат работы реализованного алгоритма кластеризации предлагается сравнить с эталонной кластеризацией. Для этого предлагается изучить метрику ([adjusted rand score](http://scikit-learn.org/stable/modules/generated/sklearn.metrics.adjusted_rand_score.html)). В случае если значение этой метрики отличается от 1, предлагается поработать над улучшением реализации своего алгоритма."
   ]
  },
  {
   "cell_type": "code",
   "execution_count": 4,
   "metadata": {},
   "outputs": [
    {
     "name": "stdout",
     "output_type": "stream",
     "text": [
      " Sklearn AGGL score 1.0. Sklearn AGGL time 0.0007541179656982422\n"
     ]
    }
   ],
   "source": [
    "# Давайте проверим, как справляются sklearn реализации\n",
    "sklearn_aggl = AgglomerativeClustering(n_clusters=2)\n",
    "aggl_t0 = time.time()\n",
    "aggl_pred = sklearn_aggl.fit_predict(x_iris)\n",
    "aggl_diff = time.time() - aggl_t0\n",
    "aggl_score = smt.adjusted_rand_score(y_iris, aggl_pred)\n",
    "print (\" Sklearn AGGL score {}. Sklearn AGGL time {}\".format(aggl_score, aggl_diff))"
   ]
  },
  {
   "cell_type": "code",
   "execution_count": 5,
   "metadata": {},
   "outputs": [
    {
     "name": "stdout",
     "output_type": "stream",
     "text": [
      "Our AGGL score 1.0. Our AGGL time 0.022905826568603516\n"
     ]
    },
    {
     "data": {
      "image/png": "[encoded data removed]",
      "text/plain": [
       "<Figure size 1800x720 with 1 Axes>"
      ]
     },
     "metadata": {
      "needs_background": "light"
     },
     "output_type": "display_data"
    }
   ],
   "source": [
    "# Здесь предскажем кластера, посчитаем метрику кластеризации и время работы, сравним со склерном\n",
    "сustum_aggl = Clustering(n_clusters=2)\n",
    "aggl_t0 = time.time()\n",
    "aggl_pred = сustum_aggl.fit_predict(x_iris)\n",
    "aggl_diff = time.time() - aggl_t0\n",
    "aggl_score = smt.adjusted_rand_score(y_iris, aggl_pred)\n",
    "print (\"Our AGGL score {}. Our AGGL time {}\".format(aggl_score, aggl_diff))\n",
    "сustum_aggl.plot_dendrogram()"
   ]
  },
  {
   "cell_type": "markdown",
   "metadata": {
    "collapsed": true
   },
   "source": [
    "# Боевое применение (3  балла)\n"
   ]
  },
  {
   "cell_type": "markdown",
   "metadata": {
    "collapsed": true
   },
   "source": [
    "Алгоритмы кластеризации прекрасны тем, что они позволяют быстро понять, как устроены наши данные. Давайте применим Ваш алгоритм для нашего конкурса!"
   ]
  },
  {
   "cell_type": "markdown",
   "metadata": {},
   "source": [
    "Будем рассматривать каждую группу независимо от других групп. На каждой группе применим наш алгоритм и отрисуем денденограмму. По результатам кластерного анализа, Вам нужно ответить на следующие вопросы:\n",
    "\n",
    "1) Можно ли по дендонаграмме (или по другим результатам кластеризации) сказать, где в группе аномалии? Каким образом?\n",
    "* Да, посмотреть, какие кластеры, состоящие из одного объекта, объединились с другими последними\n",
    "\n",
    "2) Какое расстояние лучше использовать между заголовками страниц для кластеризации? \n",
    "* Ответ ниже\n",
    "\n",
    "3) Какое качество f1_score Вы смогли получить на обучающем множестве методами кластеризации? (валидацию можете не делать, если таргет не используете)\n",
    "* Ответ ниже\n",
    "\n",
    "4) Как можно результат кластеризации затем использовать для  финальной модели обучения с учителем?\n",
    "* Смотреть на выбросы, а если получится хороший скор на трейне, то можно попробовать в лоб использовать кластеризацию на тесте"
   ]
  },
  {
   "cell_type": "markdown",
   "metadata": {},
   "source": [
    "Подсказка: самое важное - выбрать расстояние между заголовками. Самый простой вариант:  процент различных слов в двух заголовках."
   ]
  },
  {
   "cell_type": "code",
   "execution_count": 6,
   "metadata": {},
   "outputs": [
    {
     "name": "stdout",
     "output_type": "stream",
     "text": [
      "28026\n"
     ]
    }
   ],
   "source": [
    "doc_to_title = {}\n",
    "with open('../project/anomaly-detection-competition-ml1-ts-fall-2019/docs_titles.tsv') as f:\n",
    "    for num_line, line in enumerate(f):\n",
    "        if num_line == 0:\n",
    "            continue\n",
    "        data = line.strip().split('\\t', 1)\n",
    "        doc_id = int(data[0])\n",
    "        if len(data) == 1:\n",
    "            title = ''\n",
    "        else:\n",
    "            title = data[1]\n",
    "        doc_to_title[doc_id] = title\n",
    "print(len(doc_to_title))"
   ]
  },
  {
   "cell_type": "code",
   "execution_count": 7,
   "metadata": {},
   "outputs": [],
   "source": [
    "train_data = pd.read_csv('../project/anomaly-detection-competition-ml1-ts-fall-2019/train_groups.csv')\n",
    "traingroups_titledata = {}\n",
    "for i in range(len(train_data)):\n",
    "    new_doc = train_data.iloc[i]\n",
    "    doc_group = new_doc['group_id']\n",
    "    doc_id = new_doc['doc_id']\n",
    "    target = new_doc['target']\n",
    "    title = doc_to_title[doc_id]\n",
    "    if doc_group not in traingroups_titledata:\n",
    "        traingroups_titledata[doc_group] = []\n",
    "    traingroups_titledata[doc_group].append((doc_id, title, target))"
   ]
  },
  {
   "cell_type": "markdown",
   "metadata": {},
   "source": [
    "Кластеризацию проводите в каждой группе отдельно, то есть изучайте, можно ли в группе  найти подкластер выбросов\n",
    "\n",
    "Документы можно представлять, например, словами из тайтла.\n",
    "\n",
    "Главное подобрать хорошую функцию расстояния между документами\n"
   ]
  },
  {
   "cell_type": "markdown",
   "metadata": {},
   "source": [
    "Замечание: в кластеризации можно использовать все данные, то есть трейн + тест, чтобы находить больше закономерностей "
   ]
  },
  {
   "cell_type": "code",
   "execution_count": 8,
   "metadata": {},
   "outputs": [],
   "source": [
    "docs_titles = pd.read_csv('../project/anomaly-detection-competition-ml1-ts-fall-2019/docs_titles.tsv', sep='\\t', encoding='utf-8', lineterminator='\\n')"
   ]
  },
  {
   "cell_type": "code",
   "execution_count": 9,
   "metadata": {},
   "outputs": [],
   "source": [
    "train_groups = pd.read_csv('../project/anomaly-detection-competition-ml1-ts-fall-2019/train_groups.csv')"
   ]
  },
  {
   "cell_type": "code",
   "execution_count": 10,
   "metadata": {},
   "outputs": [],
   "source": [
    "from sklearn.feature_extraction.text import CountVectorizer, TfidfTransformer, HashingVectorizer\n",
    "import pymorphy2 as pm\n",
    "from multiprocessing import Pool, Lock, Value"
   ]
  },
  {
   "cell_type": "code",
   "execution_count": 11,
   "metadata": {},
   "outputs": [],
   "source": [
    "ma = pm.MorphAnalyzer()\n",
    "docs_titles['title'] = docs_titles['title'].astype(str)\n",
    "docs_titles['title'] = [text.lower() for text in docs_titles['title']]\n",
    "docs_titles['title'] = [re.sub('[^0-9a-zA-ZА-Яа-я]+', ' ', text) for text in docs_titles['title']]\n",
    "def norm(text):\n",
    "    res = ''\n",
    "    for word in text.split():\n",
    "        if word != '':\n",
    "            t = ma.parse(word)[0].normal_form\n",
    "            res = res + t\n",
    "            res = res + ' '\n",
    "    return res\n",
    "\n",
    "with Pool(10) as pool:\n",
    "    docs_titles['title'] = list(pool.map(norm, docs_titles['title']))"
   ]
  },
  {
   "cell_type": "code",
   "execution_count": 12,
   "metadata": {},
   "outputs": [
    {
     "name": "stdout",
     "output_type": "stream",
     "text": [
      "CPU times: user 16.1 s, sys: 33.4 ms, total: 16.2 s\n",
      "Wall time: 16.2 s\n"
     ]
    },
    {
     "data": {
      "text/plain": [
       "['ваза 21213 замена подшипник ступица нива ',\n",
       " 'ваза 2107 оптом в сочи сравнить цена купить потребительский товар на tiu ru ',\n",
       " 'купить ступица лада калина2 трансмиссия переходный ступица цена замена тюнинг ',\n",
       " 'классика 21010 21074 ',\n",
       " 'ступица нива замена подшипник свой рука ',\n",
       " 'ваза 2110 ',\n",
       " 'обзор подшипник полуось ваза 2101 07 2121 2123 ',\n",
       " 'купить подшипник и ступица fag страница 23 ',\n",
       " 'horsepowers автомобильный интернет портал отзыв владелец ваза 2121 нива 2007 год ',\n",
       " 'новость и сообщение из официальный группа вконтакте торговый компания 33 sport магазин тольятти ',\n",
       " 'инструкция по замена подшипник передний ступица ивеко дейли через dorognoekam ru ',\n",
       " 'ступица olx ua страница 80 ',\n",
       " 'маааленький проблёмкий бортжурнал автокам 2160 1994 год на drive2 ',\n",
       " 'разгрузить полуось для нива 24 шлиц 765 мм ',\n",
       " 'прошивка для нива м7 9 7 скачать файлообменник emqraty6 foxkirov ru ',\n",
       " 'страница 6 раздел каталог подвеска ',\n",
       " 'продать нива 2121 ',\n",
       " 'рекомендация по проведение независимый экспертиза осаго ',\n",
       " 'втулка подшипник в омск сравнить цена и поставщик промышленный товар на tiu ru ',\n",
       " 'шеврол блейзер елабуга руководство по эксплуатация инструкция и совет ',\n",
       " 'привод шрусый пыльник шрусый страница 3 ',\n",
       " 'автомобиль маз в калининград интернет магазин и компания с стоимость в каталог купить автомобиль маз цена на сайт propartner ',\n",
       " 'ваза 2103 в украина сравнить цена купить потребительский товар на prom ua страница 86 ',\n",
       " 'купить подшипник цена до 1 000 рубль в киров магазин город страница 5 ',\n",
       " 'купить запчасть на ваза в воронеж доска объявление камелот ',\n",
       " 'опора передний амортизатор какой выбрать подвеска ',\n",
       " 'подшипник лада ваза в красноярск ',\n",
       " 'автозапчасть тендер торг закупка национальный тендерный портал tenderguru ru ',\n",
       " 'замена и регулировка передний ступичный подшипник нива нива ремонт ',\n",
       " 'разборка передний тормозной механизм ваза 21213 нива ',\n",
       " 'вс тот же коробка передача бортжурнал fiat albea алька 2008 год на drive2 ',\n",
       " 'продажа ваза нива 2121 2011 год в курган продать lada 4x4 нива в отличный технический состояние обмен на более дорогой на равноценный на более дешёвый 4wd ',\n",
       " 'ваза 2108 ',\n",
       " 'интернет магазин ооо автокомпас ',\n",
       " 'как заменить подшипник ступица передний колесо ваза 2121 ',\n",
       " 'развал ступица яплакалъ ',\n",
       " 'нужный помощь подвеска ',\n",
       " 'запчасть ваза газ заза москвич авто мото литература газ волга ',\n",
       " 'снятие и установка подшипник ступица нива 2121 нива 2131 ',\n",
       " 'ваза 2104 ',\n",
       " 'подшипник olimac drago dr7080 6307 2rs по цена 1 грн с доставка по полтавский область на zakupka com ',\n",
       " 'как снять ступица на ваза 2121 нива youtube ',\n",
       " 'замена подшипник ступица ваза 21213 21214 нива ',\n",
       " 'uaz patriot брать или не брать faq форум клуб patriot 4x4 ',\n",
       " 'каталог запчасть от интернет тв ',\n",
       " 'опрос помочь выбрать заза chance vortex estina б у kia spectra страница 10 форум wroom ru ',\n",
       " 'вал привод ваза 2121 нива в харьков сравнить цена купить потребительский товар на prom ua ',\n",
       " 'лада нива 2121 1997 в новокузнецк двигатель после кап ремонт 6000км 4wd коробка механический бензин ',\n",
       " 'jf stoll джи эф штоль ',\n",
       " 'сборка поворотный кулак с ступица на нива 2121 2123 автомобиль и автомобильный хозяйство автосервис чертёж в масштаб ру ',\n",
       " 'техношина подшипник в новокузнецк ',\n",
       " 'автозапчасть ваза олмить сервис ',\n",
       " 'ступица купить в винницкий область в интернет магазин низкий цена большой каталог быстрый доставка ступица фото отзыв ',\n",
       " 'купить лада 4x4 2121 нива 2010 в новый уренгой полный шумоизоляция электро котёл подножка усиленный прицепной устройство бензин бордовый пробег 76000 километр ',\n",
       " 'av autotechnik ',\n",
       " 'снятие задний ступичный подшипник ',\n",
       " 'весь изображение ступица ваза 2106 в сбор picsbase ru ',\n",
       " 'блог автомобильный клуб кулибинск клуб ',\n",
       " 'купить подшипник ступица газель next передний цена 3 061 35 р арт а21r23 3103145 интернет магазин новосибирск ',\n",
       " 'как смазать ступичный подшипник на нива шеврол видео avtoservis sobol ',\n",
       " 'средство для уход за автомобиль купить с скидка в кострома ',\n",
       " 'купить подшипник 180314 6314 2rs ct в полтава по цена 201 34 грн на zakupka com ',\n",
       " 'двигатель ',\n",
       " 'как поменять подшипник ступица нива шеврол видео ',\n",
       " 'подшипник маховик газ 3110 3302 дв 406 дв cummins с мета крышка 6203 кпк газ деталь машина пятигорск каталог автозапчасть газ ваза уаз lada деталь ',\n",
       " 'нива подшипник ступица 21213103020 купить в нижний новгород ',\n",
       " 'подшипник для автомобиль и спецтехник vbf купить в украина в интернет магазин низкий цена большой каталог быстрый доставка подшипник для автомобиль и спецтехник vbf фото отзыв ',\n",
       " 'ниваклуб новосибирск просмотр тема подготовка машина к зима ',\n",
       " 'нива 2121 в тольятти сравнить цена купить потребительский товар на tiu ru страница 13 ',\n",
       " 'задний ступица n16 2000г в nissan almera ii n16 mdash nissan almera клуб нисан альмер ',\n",
       " 'чертёж ',\n",
       " 'ремонт ваза 2131 свой рука ремонт ваза свой рука remontysvoimirukami ru ',\n",
       " 'глухой периодичный стук справа ',\n",
       " 'ваза 2121 страница 5 форум клуб ваза 2104 ',\n",
       " 'ступица в нижний тагил сравнить цена купить потребительский товар на tiu ru страница 4 ',\n",
       " 'замена воздушный фильтр на ваза 2108 2109 21099 видео ремонт авто свой рука видео и руководство по ремонт ',\n",
       " 'колпачок ступица ваза 2110 2170 от компания z24 купить в санкт петербург ',\n",
       " 'подшипник ступица ваза 2101 kraft от компания z24 купить в санкт петербург ',\n",
       " 'подшипник mannol ',\n",
       " 'как заменить передний ступичный подшипник на нива шеврол нива ',\n",
       " 'купить мкппа ваза лада в сочи сравнить цена на мкппа ваза лада в сочи на портал blizko ',\n",
       " 'renault symbol ваш мнение форум wroom ru ',\n",
       " 'простой разборка ступица нива ремонт ',\n",
       " 'потребительский товар ваза 2106 в беларусь сравнить цена купить потребительский товар на deal by ',\n",
       " 'замена подшипник передний ступица нива 21213 ',\n",
       " 'www pajero4x4 ru просмотр тема безрезультатный сход развал ',\n",
       " 'колхоз давать делиться кто от что колхозил на p10 nissan primera p10 вконтакте ',\n",
       " 'страница 103 автокомпектовать и запчасть прочее ',\n",
       " 'подшипник полуось в украина сравнить цена купить потребительский товар на prom ua страница 3 ',\n",
       " 'купить lada ваза 2121 4x4 с пробег в омск 2001 год цена 130 000 рубль авто ру ',\n",
       " 'промышленный и оптовый товар крестовина в омск сравнить цена и поставщик промышленный товар на tiu ru ',\n",
       " 'ваза 2111 ',\n",
       " 'техношина автозапчасть на отечественный автомобиль ',\n",
       " 'колесо зубчатый раздаточный коробка ваза 2121 чертёж 74 список деталь стоимость запчасть ',\n",
       " 'подшипник 6306 youtube ',\n",
       " 'innovate 3740 сетевой адаптер в прикуриватель lm 1 интернет магазин shop tuning ru ',\n",
       " 'объявление дзержинск рф главный портал город дзержинск нижегородский область ',\n",
       " 'замена ремень и цепь грм на автомобиль смотреть на видео на zamenagrm ru ',\n",
       " 'ваза 2121 замена подшипник ступица ',\n",
       " 'малолитражка с характер вездеход моделист конструктор ',\n",
       " 'ваза 2112 ремонт свой рука передний мост ремонт ваза свой рука remontysvoimirukami ru ',\n",
       " 'пежо 308 замена датчик давление масло ']"
      ]
     },
     "execution_count": 12,
     "metadata": {},
     "output_type": "execute_result"
    }
   ],
   "source": [
    "%%time\n",
    "groups_train = []\n",
    "target_groups = []\n",
    "for group_id in range(1, 130):\n",
    "    part = train_groups[train_groups.group_id == group_id]\n",
    "    arr = []\n",
    "    arr_t = []\n",
    "    for doc_id in part['doc_id']:\n",
    "        arr.append(docs_titles[docs_titles.doc_id == doc_id].iloc[0]['title'])\n",
    "        arr_t.append(part[part.doc_id == doc_id].iloc[0]['target'])\n",
    "    groups_train.append(arr)\n",
    "    target_groups.append(arr_t)\n",
    "groups_train[0]"
   ]
  },
  {
   "cell_type": "code",
   "execution_count": 13,
   "metadata": {},
   "outputs": [],
   "source": [
    "cv = CountVectorizer(min_df=2, max_df=0.8)\n",
    "tf = TfidfTransformer()\n",
    "matrix_train = []\n",
    "for group in groups_train:\n",
    "    m = cv.fit_transform(group).toarray()\n",
    "    matrix_train.append(tf.fit_transform(m).toarray())"
   ]
  },
  {
   "cell_type": "code",
   "execution_count": 14,
   "metadata": {},
   "outputs": [],
   "source": [
    "from sklearn.metrics import f1_score\n",
    "all_targ = np.array(train_groups['target'])"
   ]
  },
  {
   "cell_type": "code",
   "execution_count": 15,
   "metadata": {},
   "outputs": [
    {
     "name": "stdout",
     "output_type": "stream",
     "text": [
      "DONE FOR METRIC = minkowski LINKAGE = simple, SCORE = 0.3979065203169296\n",
      "DONE FOR METRIC = minkowski LINKAGE = complete, SCORE = 0.38989587350559196\n",
      "DONE FOR METRIC = minkowski LINKAGE = average, SCORE = 0.4379391100702576\n",
      "DONE FOR METRIC = seuclidean LINKAGE = simple, SCORE = 0.42539946046897703\n",
      "DONE FOR METRIC = seuclidean LINKAGE = complete, SCORE = 0.43227786302134186\n",
      "DONE FOR METRIC = seuclidean LINKAGE = average, SCORE = 0.4371606948968513\n",
      "DONE FOR METRIC = sqeuclidean LINKAGE = simple, SCORE = 0.4427833650448492\n",
      "DONE FOR METRIC = sqeuclidean LINKAGE = complete, SCORE = 0.3640427599611273\n",
      "DONE FOR METRIC = sqeuclidean LINKAGE = average, SCORE = 0.43262264541502793\n",
      "DONE FOR METRIC = cosine LINKAGE = simple, SCORE = 0.45827791079187735\n",
      "DONE FOR METRIC = cosine LINKAGE = complete, SCORE = 0.42751031636863823\n",
      "DONE FOR METRIC = cosine LINKAGE = average, SCORE = 0.4539767649687221\n",
      "DONE FOR METRIC = cityblock LINKAGE = simple, SCORE = 0.4448509485094851\n",
      "DONE FOR METRIC = cityblock LINKAGE = complete, SCORE = 0.4182428559731434\n",
      "DONE FOR METRIC = cityblock LINKAGE = average, SCORE = 0.4238521836506159\n",
      "DONE FOR METRIC = euclidean LINKAGE = simple, SCORE = 0.4002329475140133\n",
      "DONE FOR METRIC = euclidean LINKAGE = complete, SCORE = 0.3900606761051719\n",
      "DONE FOR METRIC = euclidean LINKAGE = average, SCORE = 0.4379391100702576\n",
      "DONE FOR METRIC = hamming LINKAGE = simple, SCORE = 0.4424031111707121\n",
      "DONE FOR METRIC = hamming LINKAGE = complete, SCORE = 0.4206134969325154\n",
      "DONE FOR METRIC = hamming LINKAGE = average, SCORE = 0.4188099013997104\n",
      "DONE FOR METRIC = jaccard LINKAGE = simple, SCORE = 0.3869906815274986\n",
      "DONE FOR METRIC = jaccard LINKAGE = complete, SCORE = 0.3868079663804129\n",
      "DONE FOR METRIC = jaccard LINKAGE = average, SCORE = 0.3869906815274986\n",
      "DONE FOR METRIC = braycurtis LINKAGE = simple, SCORE = 0.45994208494208494\n",
      "DONE FOR METRIC = braycurtis LINKAGE = complete, SCORE = 0.37900230854160394\n",
      "DONE FOR METRIC = braycurtis LINKAGE = average, SCORE = 0.4627714995591889\n",
      "DONE FOR METRIC = canberra LINKAGE = simple, SCORE = 0.44712034679694485\n",
      "DONE FOR METRIC = canberra LINKAGE = complete, SCORE = 0.41800000000000004\n",
      "DONE FOR METRIC = canberra LINKAGE = average, SCORE = 0.4308699985761071\n",
      "DONE FOR METRIC = chebyshev LINKAGE = simple, SCORE = 0.45876514377463135\n",
      "DONE FOR METRIC = chebyshev LINKAGE = complete, SCORE = 0.36168947055324213\n",
      "DONE FOR METRIC = chebyshev LINKAGE = average, SCORE = 0.4614091609469113\n"
     ]
    }
   ],
   "source": [
    "scores = []\n",
    "preds = []\n",
    "score_to_metric = {}\n",
    "for metric in ['minkowski', 'seuclidean', 'sqeuclidean', 'cosine', 'cityblock', 'euclidean', 'hamming', 'jaccard', 'braycurtis', 'canberra', 'chebyshev', ]:\n",
    "    for linkage in ['simple', 'complete', 'average']:\n",
    "        y_pred = []\n",
    "        for m in matrix_train:\n",
    "            cl = Clustering(n_clusters=2, linkage=linkage, metric=metric)\n",
    "            y = cl.fit_predict(m)\n",
    "            y = list(y)\n",
    "            y_pred += y\n",
    "        score = f1_score(y_pred, all_targ)\n",
    "        scores.append(score)\n",
    "        score_to_metric[metric] = np.mean(scores[-3::])\n",
    "        preds.append(y_pred)\n",
    "        print('DONE FOR METRIC = {} LINKAGE = {}, SCORE = {}'.format(metric, linkage, score))"
   ]
  },
  {
   "cell_type": "code",
   "execution_count": 16,
   "metadata": {},
   "outputs": [
    {
     "data": {
      "text/plain": [
       "{'minkowski': 0.4085805012975931,\n",
       " 'seuclidean': 0.4316126727957234,\n",
       " 'sqeuclidean': 0.4131495901403348,\n",
       " 'cosine': 0.44658833070974585,\n",
       " 'cityblock': 0.4289819960444148,\n",
       " 'euclidean': 0.40941091122981427,\n",
       " 'hamming': 0.427275503167646,\n",
       " 'jaccard': 0.38692977647847004,\n",
       " 'braycurtis': 0.43390529768095926,\n",
       " 'canberra': 0.4319967817910173,\n",
       " 'chebyshev': 0.4272879250915949}"
      ]
     },
     "execution_count": 16,
     "metadata": {},
     "output_type": "execute_result"
    }
   ],
   "source": [
    "score_to_metric"
   ]
  },
  {
   "cell_type": "code",
   "execution_count": 17,
   "metadata": {},
   "outputs": [
    {
     "data": {
      "text/plain": [
       "0.4627714995591889"
      ]
     },
     "execution_count": 17,
     "metadata": {},
     "output_type": "execute_result"
    }
   ],
   "source": [
    "np.max(scores)"
   ]
  },
  {
   "cell_type": "markdown",
   "metadata": {},
   "source": [
    "То есть, в среднем, лучшее расстояние - косинусное, но лучший скор получили с braycurtis и average linkage"
   ]
  },
  {
   "cell_type": "markdown",
   "metadata": {
    "collapsed": true
   },
   "source": [
    "Если получилось найти выбросы с помощью кластеризации, то не забывайте использовать его в финальном решении. Помните - использование различных подходов к решению задачи всегда улучшает финального качество."
   ]
  },
  {
   "cell_type": "markdown",
   "metadata": {},
   "source": [
    "Здесь Вы можете оставить отзыв о этой домашней работе или о всем курсе.   "
   ]
  },
  {
   "cell_type": "markdown",
   "metadata": {},
   "source": [
    "*** ВАШ ОТЗЫВ ЗДЕСЬ***"
   ]
  },
  {
   "cell_type": "markdown",
   "metadata": {
    "collapsed": true
   },
   "source": [
    "Всё отлично, всё нравится, в восторге."
   ]
  },
  {
   "cell_type": "code",
   "execution_count": null,
   "metadata": {},
   "outputs": [],
   "source": []
  }
 ],
 "metadata": {
  "anaconda-cloud": {},
  "kernelspec": {
   "display_name": "Python 3",
   "language": "python",
   "name": "python3"
  },
  "language_info": {
   "codemirror_mode": {
    "name": "ipython",
    "version": 3
   },
   "file_extension": ".py",
   "mimetype": "text/x-python",
   "name": "python",
   "nbconvert_exporter": "python",
   "pygments_lexer": "ipython3",
   "version": "3.6.8"
  }
 },
 "nbformat": 4,
 "nbformat_minor": 1
}
